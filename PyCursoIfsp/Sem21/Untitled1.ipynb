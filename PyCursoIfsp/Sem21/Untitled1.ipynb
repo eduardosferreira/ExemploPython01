{
 "cells": [
  {
   "cell_type": "code",
   "execution_count": 2,
   "metadata": {},
   "outputs": [
    {
     "name": "stdout",
     "output_type": "stream",
     "text": [
      "True\n"
     ]
    }
   ],
   "source": [
    "curso = 'Python'\n",
    "\n",
    "print(curso.isalpha())"
   ]
  },
  {
   "cell_type": "code",
   "execution_count": 4,
   "metadata": {},
   "outputs": [
    {
     "name": "stdout",
     "output_type": "stream",
     "text": [
      "P_/_y_/_t_/_h_/_o_/_n\n"
     ]
    }
   ],
   "source": [
    "msg = 'Python'\n",
    "\n",
    "print('_/_'.join(msg))"
   ]
  },
  {
   "cell_type": "code",
   "execution_count": 5,
   "metadata": {},
   "outputs": [
    {
     "name": "stdout",
     "output_type": "stream",
     "text": [
      "('Continuando os ', 'estudos', ' para aperfeiçoar')\n"
     ]
    }
   ],
   "source": [
    "mensagem = 'Continuando os estudos para aperfeiçoar'\n",
    "result = mensagem.partition('estudos')\n",
    "print(result)\n"
   ]
  },
  {
   "cell_type": "code",
   "execution_count": 6,
   "metadata": {},
   "outputs": [
    {
     "name": "stdout",
     "output_type": "stream",
     "text": [
      "('Continuando', ' ', 'os estudos para aperfeiçoar')\n"
     ]
    }
   ],
   "source": [
    "mensagem = 'Continuando os estudos para aperfeiçoar'\n",
    "result = mensagem.partition(' ')\n",
    "print(result)\n"
   ]
  },
  {
   "cell_type": "code",
   "execution_count": 7,
   "metadata": {},
   "outputs": [
    {
     "name": "stdout",
     "output_type": "stream",
     "text": [
      "('C', 'o', 'ntinuando os estudos para aperfeiçoar')\n"
     ]
    }
   ],
   "source": [
    "mensagem = 'Continuando os estudos para aperfeiçoar'\n",
    "result = mensagem.partition('o')\n",
    "print(result)\n"
   ]
  },
  {
   "cell_type": "code",
   "execution_count": 8,
   "metadata": {},
   "outputs": [
    {
     "name": "stdout",
     "output_type": "stream",
     "text": [
      "['Curso', 'de', 'Python']\n"
     ]
    }
   ],
   "source": [
    "msg = 'Curso de Python'\n",
    "\n",
    "print(msg.split())"
   ]
  },
  {
   "cell_type": "code",
   "execution_count": 12,
   "metadata": {},
   "outputs": [
    {
     "name": "stdout",
     "output_type": "stream",
     "text": [
      "Curso Python com \"IFSP\"\n"
     ]
    }
   ],
   "source": [
    "print('Curso {} com \"{}\"'.format('Python', 'IFSP'))"
   ]
  },
  {
   "cell_type": "code",
   "execution_count": 13,
   "metadata": {},
   "outputs": [
    {
     "name": "stdout",
     "output_type": "stream",
     "text": [
      "Total de Cursos: 25, Total Alunos: 1427\n"
     ]
    }
   ],
   "source": [
    "print('Total de Cursos: %2d, Total Alunos: %4d' %(25,1427))"
   ]
  },
  {
   "cell_type": "code",
   "execution_count": null,
   "metadata": {},
   "outputs": [],
   "source": []
  }
 ],
 "metadata": {
  "kernelspec": {
   "display_name": "Python 3",
   "language": "python",
   "name": "python3"
  },
  "language_info": {
   "codemirror_mode": {
    "name": "ipython",
    "version": 3
   },
   "file_extension": ".py",
   "mimetype": "text/x-python",
   "name": "python",
   "nbconvert_exporter": "python",
   "pygments_lexer": "ipython3",
   "version": "3.8.5"
  }
 },
 "nbformat": 4,
 "nbformat_minor": 4
}
