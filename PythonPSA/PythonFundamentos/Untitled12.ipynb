{
 "cells": [
  {
   "cell_type": "code",
   "execution_count": 1,
   "metadata": {},
   "outputs": [],
   "source": [
    "frase= \"Aprendendo Python com o IFSP\""
   ]
  },
  {
   "cell_type": "code",
   "execution_count": 2,
   "metadata": {},
   "outputs": [
    {
     "name": "stdout",
     "output_type": "stream",
     "text": [
      "Python\n"
     ]
    }
   ],
   "source": [
    "print(frase[11:17])"
   ]
  },
  {
   "cell_type": "code",
   "execution_count": 3,
   "metadata": {},
   "outputs": [
    {
     "ename": "AttributeError",
     "evalue": "'str' object has no attribute 'swatecase'",
     "output_type": "error",
     "traceback": [
      "\u001b[1;31m---------------------------------------------------------------------------\u001b[0m",
      "\u001b[1;31mAttributeError\u001b[0m                            Traceback (most recent call last)",
      "\u001b[1;32m<ipython-input-3-c18c8cd389c9>\u001b[0m in \u001b[0;36m<module>\u001b[1;34m\u001b[0m\n\u001b[1;32m----> 1\u001b[1;33m \u001b[0mfrase\u001b[0m\u001b[1;33m.\u001b[0m\u001b[0mswatecase\u001b[0m\u001b[1;33m(\u001b[0m\u001b[1;33m)\u001b[0m\u001b[1;33m\u001b[0m\u001b[1;33m\u001b[0m\u001b[0m\n\u001b[0m",
      "\u001b[1;31mAttributeError\u001b[0m: 'str' object has no attribute 'swatecase'"
     ]
    }
   ],
   "source": [
    "frase.swatecase()\n"
   ]
  },
  {
   "cell_type": "code",
   "execution_count": 4,
   "metadata": {},
   "outputs": [
    {
     "data": {
      "text/plain": [
       "'Aprendendo Python Com O Ifsp'"
      ]
     },
     "execution_count": 4,
     "metadata": {},
     "output_type": "execute_result"
    }
   ],
   "source": [
    "frase.title()"
   ]
  },
  {
   "cell_type": "code",
   "execution_count": 5,
   "metadata": {},
   "outputs": [
    {
     "data": {
      "text/plain": [
       "'Aprendendo python com o ifsp'"
      ]
     },
     "execution_count": 5,
     "metadata": {},
     "output_type": "execute_result"
    }
   ],
   "source": [
    "frase.capitalize()"
   ]
  },
  {
   "cell_type": "code",
   "execution_count": 6,
   "metadata": {},
   "outputs": [
    {
     "data": {
      "text/plain": [
       "'aPRENDENDO pYTHON COM O ifsp'"
      ]
     },
     "execution_count": 6,
     "metadata": {},
     "output_type": "execute_result"
    }
   ],
   "source": [
    "frase.swapcase()"
   ]
  },
  {
   "cell_type": "code",
   "execution_count": 7,
   "metadata": {},
   "outputs": [
    {
     "name": "stdout",
     "output_type": "stream",
     "text": [
      "Tenham bastante atenção ao estudar \"Python\"\n"
     ]
    }
   ],
   "source": [
    "curso = 'Tenham bastante atenção ao estudar \"Python\"'\n",
    "print(curso)"
   ]
  },
  {
   "cell_type": "code",
   "execution_count": 8,
   "metadata": {},
   "outputs": [
    {
     "name": "stdout",
     "output_type": "stream",
     "text": [
      "Tenham bastante atenção ao estudar \"Python\"\n"
     ]
    }
   ],
   "source": [
    "curso = \"Tenham bastante atenção ao estudar \\\"Python\\\"\"\n",
    "print(curso)"
   ]
  },
  {
   "cell_type": "code",
   "execution_count": 9,
   "metadata": {},
   "outputs": [
    {
     "name": "stdout",
     "output_type": "stream",
     "text": [
      "Escapando com \\\n"
     ]
    }
   ],
   "source": [
    "barra = \"Escapando com \\\\\"\n",
    "print(barra)"
   ]
  },
  {
   "cell_type": "code",
   "execution_count": 10,
   "metadata": {},
   "outputs": [
    {
     "name": "stdout",
     "output_type": "stream",
     "text": [
      "O nome informado é Fernando \n",
      "Com idade de 27 anos\n"
     ]
    }
   ],
   "source": [
    "nome = 'Fernando'\n",
    "idade = 27\n",
    "print('O nome informado é %s '%nome)\n",
    "print('Com idade de %d anos'%idade)"
   ]
  },
  {
   "cell_type": "code",
   "execution_count": 11,
   "metadata": {},
   "outputs": [
    {
     "name": "stdout",
     "output_type": "stream",
     "text": [
      "O nome informa é Fernando e ele possui 27 anos.\n"
     ]
    }
   ],
   "source": [
    "print('O nome informa é ' +nome+ ' e ele possui ' + str(idade) + ' anos.')"
   ]
  },
  {
   "cell_type": "code",
   "execution_count": 12,
   "metadata": {},
   "outputs": [
    {
     "name": "stdout",
     "output_type": "stream",
     "text": [
      "Formatando decimais: 30.462570\n",
      "Formatando decimais: 30.46\n",
      "Formatando decimais: 30.463\n"
     ]
    }
   ],
   "source": [
    "raio = 30.46257\n",
    "print('Formatando decimais: %f' %raio)\n",
    "print('Formatando decimais: %.2f' %raio)\n",
    "print('Formatando decimais: %.3f' %raio)"
   ]
  },
  {
   "cell_type": "code",
   "execution_count": 13,
   "metadata": {},
   "outputs": [
    {
     "data": {
      "text/plain": [
       "4"
      ]
     },
     "execution_count": 13,
     "metadata": {},
     "output_type": "execute_result"
    }
   ],
   "source": [
    "frase.count(' ')"
   ]
  },
  {
   "cell_type": "code",
   "execution_count": 14,
   "metadata": {},
   "outputs": [],
   "source": [
    "nome = \"Eduardo da Silva Ferreira\""
   ]
  },
  {
   "cell_type": "code",
   "execution_count": 15,
   "metadata": {},
   "outputs": [],
   "source": [
    "nome = \"Rodrigo Eduardo Nemesio Daniel Croucris\""
   ]
  },
  {
   "cell_type": "code",
   "execution_count": 16,
   "metadata": {},
   "outputs": [
    {
     "name": "stdout",
     "output_type": "stream",
     "text": [
      "O nome digitado eh: RODRIGO EDUARDO NEMESIO DANIEL CROUCRIS e o numero de letras r que ele tem eh: 4\n"
     ]
    }
   ],
   "source": [
    "print(\"O nome digitado eh: \" + nome.upper() + \" e o numero de letras r que ele tem eh: \" + str(nome.count('r')))"
   ]
  },
  {
   "cell_type": "code",
   "execution_count": 17,
   "metadata": {},
   "outputs": [],
   "source": [
    "nome = \"Maria José da Silva\""
   ]
  },
  {
   "cell_type": "code",
   "execution_count": 19,
   "metadata": {},
   "outputs": [],
   "source": [
    "teste= nome.split(\" \")\n"
   ]
  },
  {
   "cell_type": "code",
   "execution_count": 20,
   "metadata": {},
   "outputs": [
    {
     "name": "stdout",
     "output_type": "stream",
     "text": [
      "Primeiro parte do nome: Maria\n"
     ]
    }
   ],
   "source": [
    "\n",
    "print(\"Primeiro parte do nome: \"  + teste[0])\n"
   ]
  },
  {
   "cell_type": "code",
   "execution_count": 21,
   "metadata": {},
   "outputs": [
    {
     "name": "stdout",
     "output_type": "stream",
     "text": [
      "Segundo parte do nome: José\n"
     ]
    }
   ],
   "source": [
    "\n",
    "print(\"Segundo parte do nome: \"  + teste[1])\n"
   ]
  },
  {
   "cell_type": "code",
   "execution_count": 22,
   "metadata": {},
   "outputs": [
    {
     "ename": "SyntaxError",
     "evalue": "invalid syntax (<ipython-input-22-bfc329bd4825>, line 1)",
     "output_type": "error",
     "traceback": [
      "\u001b[1;36m  File \u001b[1;32m\"<ipython-input-22-bfc329bd4825>\"\u001b[1;36m, line \u001b[1;32m1\u001b[0m\n\u001b[1;33m    print(\"Terceira parte do nome\":   + teste[2])\u001b[0m\n\u001b[1;37m                                  ^\u001b[0m\n\u001b[1;31mSyntaxError\u001b[0m\u001b[1;31m:\u001b[0m invalid syntax\n"
     ]
    }
   ],
   "source": [
    "\n",
    "print(\"Terceira parte do nome\":   + teste[2])\n"
   ]
  },
  {
   "cell_type": "code",
   "execution_count": 26,
   "metadata": {},
   "outputs": [
    {
     "name": "stdout",
     "output_type": "stream",
     "text": [
      "Quarta parte do nome: Silva\n"
     ]
    }
   ],
   "source": [
    "\n",
    "print(\"Quarta parte do nome: \"  + teste[3])"
   ]
  },
  {
   "cell_type": "code",
   "execution_count": 24,
   "metadata": {},
   "outputs": [
    {
     "data": {
      "text/plain": [
       "['Maria', 'José', 'da', 'Silva']"
      ]
     },
     "execution_count": 24,
     "metadata": {},
     "output_type": "execute_result"
    }
   ],
   "source": [
    "teste"
   ]
  },
  {
   "cell_type": "code",
   "execution_count": 25,
   "metadata": {},
   "outputs": [
    {
     "name": "stdout",
     "output_type": "stream",
     "text": [
      "Quarta parte do nome: da\n"
     ]
    }
   ],
   "source": [
    "\n",
    "print(\"Quarta parte do nome: \"  + teste[2])"
   ]
  },
  {
   "cell_type": "code",
   "execution_count": 27,
   "metadata": {},
   "outputs": [
    {
     "name": "stdout",
     "output_type": "stream",
     "text": [
      "Estamos em endereços diferentes!\n"
     ]
    }
   ],
   "source": [
    "class Pato:\n",
    "  pass\n",
    "\n",
    "pato = Pato()\n",
    "patinho = Pato()\n",
    "if pato == patinho:\n",
    "  print(\"Estamos no mesmo endereço!\")\n",
    "else:\n",
    "  print(\"Estamos em endereços diferentes!\")"
   ]
  },
  {
   "cell_type": "code",
   "execution_count": 28,
   "metadata": {},
   "outputs": [],
   "source": [
    "class Cafeteira:\n",
    "  def __init__(self, marca, tipo, tamanho, cor):\n",
    "    self.marca = marca\n",
    "    self.tipo = tipo\n",
    "    self.tamanho = tamanho\n",
    "    self.cor = cor"
   ]
  },
  {
   "cell_type": "code",
   "execution_count": 32,
   "metadata": {},
   "outputs": [
    {
     "data": {
      "text/plain": [
       "False"
      ]
     },
     "execution_count": 32,
     "metadata": {},
     "output_type": "execute_result"
    }
   ],
   "source": [
    "rex.idade == '2'"
   ]
  },
  {
   "cell_type": "code",
   "execution_count": 30,
   "metadata": {},
   "outputs": [
    {
     "ename": "NameError",
     "evalue": "name 'Cachorro' is not defined",
     "output_type": "error",
     "traceback": [
      "\u001b[1;31m---------------------------------------------------------------------------\u001b[0m",
      "\u001b[1;31mNameError\u001b[0m                                 Traceback (most recent call last)",
      "\u001b[1;32m<ipython-input-30-6cc215d0aa2c>\u001b[0m in \u001b[0;36m<module>\u001b[1;34m\u001b[0m\n\u001b[1;32m----> 1\u001b[1;33m \u001b[0mrex\u001b[0m \u001b[1;33m=\u001b[0m \u001b[0mCachorro\u001b[0m\u001b[1;33m(\u001b[0m\u001b[1;34m'vira-lata'\u001b[0m\u001b[1;33m,\u001b[0m \u001b[1;36m2\u001b[0m\u001b[1;33m,\u001b[0m \u001b[1;34m'Bobby'\u001b[0m\u001b[1;33m,\u001b[0m \u001b[1;34m'marrom'\u001b[0m\u001b[1;33m)\u001b[0m\u001b[1;33m\u001b[0m\u001b[1;33m\u001b[0m\u001b[0m\n\u001b[0m",
      "\u001b[1;31mNameError\u001b[0m: name 'Cachorro' is not defined"
     ]
    }
   ],
   "source": [
    "rex = Cachorro('vira-lata', 2, 'Bobby', 'marrom')"
   ]
  },
  {
   "cell_type": "code",
   "execution_count": 31,
   "metadata": {},
   "outputs": [],
   "source": [
    "class Cachorro:\n",
    "  def __init__(self, raça, idade, nome, cor):\n",
    "    self.raça = raça\n",
    "    self.idade = idade\n",
    "    self.nome = nome\n",
    "    self.cor = cor\n",
    "    \n",
    "rex = Cachorro('vira-lata', 2, 'Bobby', 'marrom')"
   ]
  },
  {
   "cell_type": "code",
   "execution_count": 33,
   "metadata": {},
   "outputs": [
    {
     "data": {
      "text/plain": [
       "2"
      ]
     },
     "execution_count": 33,
     "metadata": {},
     "output_type": "execute_result"
    }
   ],
   "source": [
    "rex.idade"
   ]
  },
  {
   "cell_type": "code",
   "execution_count": 34,
   "metadata": {},
   "outputs": [
    {
     "data": {
      "text/plain": [
       "False"
      ]
     },
     "execution_count": 34,
     "metadata": {},
     "output_type": "execute_result"
    }
   ],
   "source": [
    "\n",
    "rex.idade == '2'"
   ]
  },
  {
   "cell_type": "code",
   "execution_count": 35,
   "metadata": {},
   "outputs": [
    {
     "ename": "NameError",
     "evalue": "name 'Bobby' is not defined",
     "output_type": "error",
     "traceback": [
      "\u001b[1;31m---------------------------------------------------------------------------\u001b[0m",
      "\u001b[1;31mNameError\u001b[0m                                 Traceback (most recent call last)",
      "\u001b[1;32m<ipython-input-35-ae9c13841ff3>\u001b[0m in \u001b[0;36m<module>\u001b[1;34m\u001b[0m\n\u001b[1;32m----> 1\u001b[1;33m \u001b[0mBobby\u001b[0m\u001b[1;33m.\u001b[0m\u001b[0mcor\u001b[0m \u001b[1;33m==\u001b[0m \u001b[1;34m'marrom'\u001b[0m\u001b[1;33m\u001b[0m\u001b[1;33m\u001b[0m\u001b[0m\n\u001b[0m",
      "\u001b[1;31mNameError\u001b[0m: name 'Bobby' is not defined"
     ]
    }
   ],
   "source": [
    "\n",
    "Bobby.cor == 'marrom'"
   ]
  },
  {
   "cell_type": "code",
   "execution_count": 36,
   "metadata": {},
   "outputs": [
    {
     "data": {
      "text/plain": [
       "True"
      ]
     },
     "execution_count": 36,
     "metadata": {},
     "output_type": "execute_result"
    }
   ],
   "source": [
    "\n",
    "'vira-lata' == rex.raça"
   ]
  },
  {
   "cell_type": "code",
   "execution_count": 37,
   "metadata": {},
   "outputs": [
    {
     "data": {
      "text/plain": [
       "False"
      ]
     },
     "execution_count": 37,
     "metadata": {},
     "output_type": "execute_result"
    }
   ],
   "source": [
    "\n",
    "rex.idade > 2"
   ]
  },
  {
   "cell_type": "code",
   "execution_count": 38,
   "metadata": {},
   "outputs": [
    {
     "data": {
      "text/plain": [
       "False"
      ]
     },
     "execution_count": 38,
     "metadata": {},
     "output_type": "execute_result"
    }
   ],
   "source": [
    "rex.nome == 'rex'"
   ]
  },
  {
   "cell_type": "code",
   "execution_count": 39,
   "metadata": {},
   "outputs": [],
   "source": [
    "class Lista:\n",
    "  def append(self, elemento):\n",
    "    return \"Oops! Este objeto não é uma lista\"\n",
    "    \n",
    "lista = []\n",
    "\n",
    "a = Lista()\n",
    "b = a.append(7)\n",
    "\n",
    "lista.append(b)"
   ]
  },
  {
   "cell_type": "code",
   "execution_count": 40,
   "metadata": {},
   "outputs": [
    {
     "data": {
      "text/plain": [
       "<__main__.Lista at 0x25593a3c4f0>"
      ]
     },
     "execution_count": 40,
     "metadata": {},
     "output_type": "execute_result"
    }
   ],
   "source": [
    "a"
   ]
  },
  {
   "cell_type": "code",
   "execution_count": 41,
   "metadata": {},
   "outputs": [
    {
     "data": {
      "text/plain": [
       "'Oops! Este objeto não é uma lista'"
      ]
     },
     "execution_count": 41,
     "metadata": {},
     "output_type": "execute_result"
    }
   ],
   "source": [
    "b"
   ]
  },
  {
   "cell_type": "code",
   "execution_count": 42,
   "metadata": {},
   "outputs": [
    {
     "data": {
      "text/plain": [
       "['Oops! Este objeto não é uma lista']"
      ]
     },
     "execution_count": 42,
     "metadata": {},
     "output_type": "execute_result"
    }
   ],
   "source": [
    "lista"
   ]
  },
  {
   "cell_type": "code",
   "execution_count": 48,
   "metadata": {},
   "outputs": [],
   "source": [
    "# importa os objetos\n",
    "import math\n",
    "\n",
    "# Inicio da Classes\n",
    "class Bhaskara:\n",
    "    '''\n",
    "        Classe que calcula formula baskara \n",
    "    '''    \n",
    "\n",
    "    def __init__(self, p_nr_a=0.0, p_nr_b=0.0, p_nr_c=0.0):\n",
    "        '''\n",
    "            (float, float, float) -> Metodo construtor\n",
    "            Inicializa os atributos das classes\n",
    "        '''        \n",
    "        self.nr_a = p_nr_a\n",
    "        self.nr_b = p_nr_b\n",
    "        self.nr_c = p_nr_c\n",
    "        self.__nr_d = float(0)\n",
    "        self.__nr_qtde_raizes = int(0)\n",
    "        self.__nr_raiz_1 = float(0)\n",
    "        self.__nr_raiz_2 = float(0)\n",
    "    \n",
    "    \n",
    "    @property\n",
    "    def nr_d(self): \n",
    "        return self.__nr_d\n",
    "\n",
    "\n",
    "    @property\n",
    "    def nr_raiz_1(self): \n",
    "        return self.__nr_raiz_1\n",
    "\n",
    "\n",
    "    @property\n",
    "    def nr_raiz_2(self): \n",
    "        return self.__nr_raiz_2\n",
    "    \n",
    "    \n",
    "    @nr_d.setter\n",
    "    def nr_d(self, p_nr_aux): \n",
    "        print(\"Impossivel alterar diretamente. \" + str(p_nr_aux))\n",
    "        raise ValueError(\"Impossivel alterar diretamente. \" + str(p_nr_aux))\n",
    "\n",
    "\n",
    "    def main(self):\n",
    "        '''\n",
    "            Entrada com input de dados\n",
    "        '''\n",
    "        nr_retorno = int(0)\n",
    "        \n",
    "        print(\"*\"*100)\n",
    "        print()\n",
    "        \n",
    "        print(str(\"Entra com dados para calculo de Bhaskara\").center(100))\n",
    "        \n",
    "        print()\n",
    "        \n",
    "        try:\n",
    "            self.nr_a = float(input(\"Informe a entrada de A (decimal): \"))\n",
    "        except:\n",
    "            print(\"Entrada inválida!\")\n",
    "            self.nr_a = 0\n",
    "            nr_retorno += 1\n",
    "        \n",
    "        if not nr_retorno:\n",
    "            try:\n",
    "                self.nr_b = float(input(\"Informe a entrada de B (decimal): \"))\n",
    "            except:\n",
    "                print(\"Entrada inválida!\")\n",
    "                self.nr_b = 0\n",
    "                nr_retorno += 1\n",
    "        \n",
    "        if not nr_retorno:    \n",
    "            try:\n",
    "                self.nr_c = float(input(\"Informe a entrada de C (decimal): \"))\n",
    "            except:\n",
    "                print(\"Entrada inválida!\")\n",
    "                self.nr_c = 0\n",
    "                nr_retorno += 1\n",
    "            \n",
    "        print()\n",
    "        print(\"*\"*100)\n",
    "        return nr_retorno\n",
    "    \n",
    "    def __str__(self):\n",
    "        '''\n",
    "            Imprimi os dados\n",
    "        '''\n",
    "        ds_retorno = \"\"\n",
    "        ds_retorno += \"\\n\" + \"*\"*100 + \"\\n\"\n",
    "        \n",
    "        ds_retorno += str(\"Retorno calculo de Bhaskara\").center(100)\n",
    "        \n",
    "        ds_retorno += \"\\n\"\n",
    "        \n",
    "        if self.__nr_qtde_raizes <= 0:\n",
    "            ds_retorno += \"\\n Não tem raizes\\n\"\n",
    "            \n",
    "        if self.__nr_qtde_raizes >= 1:\n",
    "            ds_retorno += \"\\n Raiz 1 : \" + str(self.__nr_raiz_1) \n",
    "        \n",
    "        if self.__nr_qtde_raizes > 1:\n",
    "            ds_retorno += \"\\n Raiz 2 : \" + str(self.__nr_raiz_2)\n",
    "            \n",
    "        ds_retorno += \"\\n\" + \"*\"*100 + \"\\n\"\n",
    "        \n",
    "        return ds_retorno\n",
    "    \n",
    "    \n",
    "    def fnc_delta (self):\n",
    "        '''\n",
    "            () -> float\n",
    "            Retorna calculo da variante delta\n",
    "        '''        \n",
    "        return self.nr_b**2 - 4 * self.nr_a * self.nr_c\n",
    "        \n",
    "    \n",
    "    def fnc_calcula_raiz(self,p_nr_raiz=1):\n",
    "        '''\n",
    "            (float) -> float\n",
    "            Retorna calculo da variante raiz \n",
    "        '''        \n",
    "        if self.nr_a == 0:\n",
    "            return 0\n",
    "    \n",
    "        if p_nr_raiz == 1:\n",
    "            return ((-self.nr_b) + math.sqrt(self.__nr_d))/(2*self.nr_a)  \n",
    "        else:\n",
    "            return ((-self.nr_b) - math.sqrt(self.__nr_d))/(2*self.nr_a)  \n",
    "    \n",
    "    \n",
    "    def fnc_calcula_raizes(self):\n",
    "        '''\n",
    "            () -> int, float, float\n",
    "            Retorna calculo das raiz, sendo os retornos: \n",
    "            primeiro : quantidade de raizes retornadas\n",
    "            segundo  : primeira raiz \n",
    "            terceiro : segunda  raiz \n",
    "        '''        \n",
    "        # declaracao de variaveis\n",
    "        self.__nr_d = float(0)\n",
    "        self.__nr_qtde_raizes = int(0)\n",
    "        self.__nr_raiz_1 = float(0)\n",
    "        self.__nr_raiz_2 = float(0)\n",
    "        \n",
    "        # calcula delta\n",
    "        nr_d = self.fnc_delta ()\n",
    "        \n",
    "        if nr_d >= 0:\n",
    "            self.__nr_raiz_1 = self.fnc_calcula_raiz()\n",
    "            self.__nr_qtde_raizes += 1\n",
    "            \n",
    "        if nr_d > 0:\n",
    "            self.__nr_raiz_2 = self.fnc_calcula_raiz(2)\n",
    "            self.__nr_qtde_raizes += 1\n",
    "            \n",
    "        return self.__nr_qtde_raizes, self.__nr_raiz_1, self.__nr_raiz_2\n",
    "\n",
    "# Fim da Classes"
   ]
  },
  {
   "cell_type": "code",
   "execution_count": 49,
   "metadata": {},
   "outputs": [],
   "source": [
    "ob_bhaskara = Bhaskara()"
   ]
  },
  {
   "cell_type": "code",
   "execution_count": 50,
   "metadata": {},
   "outputs": [],
   "source": [
    "ob_bhaskara = Bhaskara(-1,2.2,3.3)"
   ]
  },
  {
   "cell_type": "code",
   "execution_count": 51,
   "metadata": {},
   "outputs": [
    {
     "data": {
      "text/plain": [
       "0.0"
      ]
     },
     "execution_count": 51,
     "metadata": {},
     "output_type": "execute_result"
    }
   ],
   "source": [
    "ob_bhaskara.nr_d"
   ]
  },
  {
   "cell_type": "code",
   "execution_count": 52,
   "metadata": {},
   "outputs": [
    {
     "ename": "TypeError",
     "evalue": "'float' object is not callable",
     "output_type": "error",
     "traceback": [
      "\u001b[1;31m---------------------------------------------------------------------------\u001b[0m",
      "\u001b[1;31mTypeError\u001b[0m                                 Traceback (most recent call last)",
      "\u001b[1;32m<ipython-input-52-2eaf271faf90>\u001b[0m in \u001b[0;36m<module>\u001b[1;34m\u001b[0m\n\u001b[1;32m----> 1\u001b[1;33m \u001b[0mob_bhaskara\u001b[0m\u001b[1;33m.\u001b[0m\u001b[0mnr_d\u001b[0m\u001b[1;33m(\u001b[0m\u001b[1;36m1\u001b[0m\u001b[1;33m)\u001b[0m\u001b[1;33m\u001b[0m\u001b[1;33m\u001b[0m\u001b[0m\n\u001b[0m",
      "\u001b[1;31mTypeError\u001b[0m: 'float' object is not callable"
     ]
    }
   ],
   "source": [
    "ob_bhaskara.nr_d(1)"
   ]
  },
  {
   "cell_type": "code",
   "execution_count": 53,
   "metadata": {},
   "outputs": [
    {
     "ename": "TypeError",
     "evalue": "'float' object is not callable",
     "output_type": "error",
     "traceback": [
      "\u001b[1;31m---------------------------------------------------------------------------\u001b[0m",
      "\u001b[1;31mTypeError\u001b[0m                                 Traceback (most recent call last)",
      "\u001b[1;32m<ipython-input-53-19e135fde06d>\u001b[0m in \u001b[0;36m<module>\u001b[1;34m\u001b[0m\n\u001b[1;32m----> 1\u001b[1;33m \u001b[0mob_bhaskara\u001b[0m\u001b[1;33m.\u001b[0m\u001b[0mnr_d\u001b[0m\u001b[1;33m(\u001b[0m\u001b[1;33m)\u001b[0m\u001b[1;33m\u001b[0m\u001b[1;33m\u001b[0m\u001b[0m\n\u001b[0m",
      "\u001b[1;31mTypeError\u001b[0m: 'float' object is not callable"
     ]
    }
   ],
   "source": [
    "ob_bhaskara.nr_d()"
   ]
  },
  {
   "cell_type": "code",
   "execution_count": 54,
   "metadata": {},
   "outputs": [
    {
     "name": "stdout",
     "output_type": "stream",
     "text": [
      "Impossivel alterar diretamente. 1\n"
     ]
    },
    {
     "ename": "ValueError",
     "evalue": "Impossivel alterar diretamente. 1",
     "output_type": "error",
     "traceback": [
      "\u001b[1;31m---------------------------------------------------------------------------\u001b[0m",
      "\u001b[1;31mValueError\u001b[0m                                Traceback (most recent call last)",
      "\u001b[1;32m<ipython-input-54-dd8ad760053e>\u001b[0m in \u001b[0;36m<module>\u001b[1;34m\u001b[0m\n\u001b[1;32m----> 1\u001b[1;33m \u001b[0mob_bhaskara\u001b[0m\u001b[1;33m.\u001b[0m\u001b[0mnr_d\u001b[0m \u001b[1;33m=\u001b[0m \u001b[1;36m1\u001b[0m\u001b[1;33m\u001b[0m\u001b[1;33m\u001b[0m\u001b[0m\n\u001b[0m",
      "\u001b[1;32m<ipython-input-48-bdb82244fef0>\u001b[0m in \u001b[0;36mnr_d\u001b[1;34m(self, p_nr_aux)\u001b[0m\n\u001b[0;32m     40\u001b[0m     \u001b[1;32mdef\u001b[0m \u001b[0mnr_d\u001b[0m\u001b[1;33m(\u001b[0m\u001b[0mself\u001b[0m\u001b[1;33m,\u001b[0m \u001b[0mp_nr_aux\u001b[0m\u001b[1;33m)\u001b[0m\u001b[1;33m:\u001b[0m\u001b[1;33m\u001b[0m\u001b[1;33m\u001b[0m\u001b[0m\n\u001b[0;32m     41\u001b[0m         \u001b[0mprint\u001b[0m\u001b[1;33m(\u001b[0m\u001b[1;34m\"Impossivel alterar diretamente. \"\u001b[0m \u001b[1;33m+\u001b[0m \u001b[0mstr\u001b[0m\u001b[1;33m(\u001b[0m\u001b[0mp_nr_aux\u001b[0m\u001b[1;33m)\u001b[0m\u001b[1;33m)\u001b[0m\u001b[1;33m\u001b[0m\u001b[1;33m\u001b[0m\u001b[0m\n\u001b[1;32m---> 42\u001b[1;33m         \u001b[1;32mraise\u001b[0m \u001b[0mValueError\u001b[0m\u001b[1;33m(\u001b[0m\u001b[1;34m\"Impossivel alterar diretamente. \"\u001b[0m \u001b[1;33m+\u001b[0m \u001b[0mstr\u001b[0m\u001b[1;33m(\u001b[0m\u001b[0mp_nr_aux\u001b[0m\u001b[1;33m)\u001b[0m\u001b[1;33m)\u001b[0m\u001b[1;33m\u001b[0m\u001b[1;33m\u001b[0m\u001b[0m\n\u001b[0m\u001b[0;32m     43\u001b[0m \u001b[1;33m\u001b[0m\u001b[0m\n\u001b[0;32m     44\u001b[0m \u001b[1;33m\u001b[0m\u001b[0m\n",
      "\u001b[1;31mValueError\u001b[0m: Impossivel alterar diretamente. 1"
     ]
    }
   ],
   "source": [
    "ob_bhaskara.nr_d = 1"
   ]
  },
  {
   "cell_type": "code",
   "execution_count": null,
   "metadata": {},
   "outputs": [],
   "source": []
  }
 ],
 "metadata": {
  "kernelspec": {
   "display_name": "Python 3",
   "language": "python",
   "name": "python3"
  },
  "language_info": {
   "codemirror_mode": {
    "name": "ipython",
    "version": 3
   },
   "file_extension": ".py",
   "mimetype": "text/x-python",
   "name": "python",
   "nbconvert_exporter": "python",
   "pygments_lexer": "ipython3",
   "version": "3.8.5"
  }
 },
 "nbformat": 4,
 "nbformat_minor": 4
}
