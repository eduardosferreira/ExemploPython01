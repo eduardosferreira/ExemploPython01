{
 "cells": [
  {
   "cell_type": "code",
   "execution_count": 1,
   "metadata": {},
   "outputs": [],
   "source": [
    "import datetime"
   ]
  },
  {
   "cell_type": "code",
   "execution_count": 3,
   "metadata": {},
   "outputs": [
    {
     "ename": "ValueError",
     "evalue": "Invalid format string",
     "output_type": "error",
     "traceback": [
      "\u001b[1;31m---------------------------------------------------------------------------\u001b[0m",
      "\u001b[1;31mValueError\u001b[0m                                Traceback (most recent call last)",
      "\u001b[1;32m<ipython-input-3-df8afbc9bc69>\u001b[0m in \u001b[0;36m<module>\u001b[1;34m\u001b[0m\n\u001b[1;32m----> 1\u001b[1;33m \u001b[0mdatetime\u001b[0m\u001b[1;33m.\u001b[0m\u001b[0mdatetime\u001b[0m\u001b[1;33m.\u001b[0m\u001b[0mnow\u001b[0m\u001b[1;33m(\u001b[0m\u001b[1;33m)\u001b[0m\u001b[1;33m.\u001b[0m\u001b[0mstrftime\u001b[0m\u001b[1;33m(\u001b[0m\u001b[1;34m'%Y%m%d% %H%M%S'\u001b[0m\u001b[1;33m)\u001b[0m\u001b[1;33m\u001b[0m\u001b[1;33m\u001b[0m\u001b[0m\n\u001b[0m",
      "\u001b[1;31mValueError\u001b[0m: Invalid format string"
     ]
    }
   ],
   "source": [
    "datetime.datetime.now().strftime('%Y%m%d% %H%M%S')"
   ]
  },
  {
   "cell_type": "code",
   "execution_count": 4,
   "metadata": {},
   "outputs": [
    {
     "ename": "AttributeError",
     "evalue": "module 'datetime' has no attribute 'now'",
     "output_type": "error",
     "traceback": [
      "\u001b[1;31m---------------------------------------------------------------------------\u001b[0m",
      "\u001b[1;31mAttributeError\u001b[0m                            Traceback (most recent call last)",
      "\u001b[1;32m<ipython-input-4-fa3af86d19df>\u001b[0m in \u001b[0;36m<module>\u001b[1;34m\u001b[0m\n\u001b[1;32m----> 1\u001b[1;33m \u001b[0mdatetime\u001b[0m\u001b[1;33m.\u001b[0m\u001b[0mnow\u001b[0m\u001b[1;33m(\u001b[0m\u001b[1;33m)\u001b[0m\u001b[1;33m.\u001b[0m\u001b[0mstrftime\u001b[0m\u001b[1;33m(\u001b[0m\u001b[1;34m'%Y%m%d% %H%M%S'\u001b[0m\u001b[1;33m)\u001b[0m\u001b[1;33m\u001b[0m\u001b[1;33m\u001b[0m\u001b[0m\n\u001b[0m",
      "\u001b[1;31mAttributeError\u001b[0m: module 'datetime' has no attribute 'now'"
     ]
    }
   ],
   "source": [
    "datetime.now().strftime('%Y%m%d% %H%M%S')"
   ]
  },
  {
   "cell_type": "code",
   "execution_count": 5,
   "metadata": {},
   "outputs": [
    {
     "data": {
      "text/plain": [
       "'14/07/2021 12:15:05'"
      ]
     },
     "execution_count": 5,
     "metadata": {},
     "output_type": "execute_result"
    }
   ],
   "source": [
    "datetime.datetime.now().strftime('%d/%m/%Y %H:%M:%S')"
   ]
  },
  {
   "cell_type": "code",
   "execution_count": 6,
   "metadata": {},
   "outputs": [
    {
     "data": {
      "text/plain": [
       "'14072021 12:15:13'"
      ]
     },
     "execution_count": 6,
     "metadata": {},
     "output_type": "execute_result"
    }
   ],
   "source": [
    "datetime.datetime.now().strftime('%d%m%Y %H:%M:%S')"
   ]
  },
  {
   "cell_type": "code",
   "execution_count": 7,
   "metadata": {},
   "outputs": [
    {
     "data": {
      "text/plain": [
       "'14/07/2021 121520'"
      ]
     },
     "execution_count": 7,
     "metadata": {},
     "output_type": "execute_result"
    }
   ],
   "source": [
    "datetime.datetime.now().strftime('%d/%m/%Y %H%M%S')"
   ]
  },
  {
   "cell_type": "code",
   "execution_count": 8,
   "metadata": {},
   "outputs": [
    {
     "data": {
      "text/plain": [
       "'14072021 121537'"
      ]
     },
     "execution_count": 8,
     "metadata": {},
     "output_type": "execute_result"
    }
   ],
   "source": [
    "datetime.datetime.now().strftime('%d%m%Y %H%M%S')"
   ]
  },
  {
   "cell_type": "code",
   "execution_count": 9,
   "metadata": {},
   "outputs": [
    {
     "data": {
      "text/plain": [
       "'20211407 121545'"
      ]
     },
     "execution_count": 9,
     "metadata": {},
     "output_type": "execute_result"
    }
   ],
   "source": [
    "datetime.datetime.now().strftime('%Y%d%m %H%M%S')"
   ]
  },
  {
   "cell_type": "code",
   "execution_count": 10,
   "metadata": {},
   "outputs": [
    {
     "data": {
      "text/plain": [
       "'20210714 121553'"
      ]
     },
     "execution_count": 10,
     "metadata": {},
     "output_type": "execute_result"
    }
   ],
   "source": [
    "datetime.datetime.now().strftime('%Y%m%d %H%M%S')"
   ]
  },
  {
   "cell_type": "code",
   "execution_count": 11,
   "metadata": {},
   "outputs": [
    {
     "data": {
      "text/plain": [
       "'20210714_121602'"
      ]
     },
     "execution_count": 11,
     "metadata": {},
     "output_type": "execute_result"
    }
   ],
   "source": [
    "datetime.datetime.now().strftime('%Y%m%d_%H%M%S')"
   ]
  },
  {
   "cell_type": "code",
   "execution_count": 12,
   "metadata": {},
   "outputs": [
    {
     "data": {
      "text/plain": [
       "'20210714_121625'"
      ]
     },
     "execution_count": 12,
     "metadata": {},
     "output_type": "execute_result"
    }
   ],
   "source": [
    "datetime.datetime.now().strftime('%Y%m%d_%H%M%S')"
   ]
  },
  {
   "cell_type": "code",
   "execution_count": 13,
   "metadata": {},
   "outputs": [],
   "source": [
    "    l_retorno=[[],[]]\n",
    "    l_retorno[0]=[\"CNPJ_FILIAL\",\n",
    "                \"IE_FILIAL\",\n",
    "                \"NUMERO_NF\",\n",
    "                \"SERIE\",\n",
    "                \"MODELO\",\n",
    "                \"VALOR_ESTORNO_CONV39\",\n",
    "                \"CPF_CNPJ_IMPANTERIOR\",\n",
    "                \"CPF_CNPJ_IMPDEPOIS\",\n",
    "                \"CPF_CNPJ_CV115ORIGINAL\",\n",
    "                \"IE_IMPANTERIOR\",\n",
    "                \"IE_IMPDEPOIS\",\n",
    "                \"IE_CV115ORIGINAL\",\n",
    "                \"RAZAOSOCIAL_IMPANTERIOR\",\n",
    "                \"RAZAOSOCIAL_IMPDEPOIS\",\n",
    "                \"RAZAOSOCIAL_CV115ORIGINAL\",\n",
    "                \"LOGRADOURO_IMPANTERIOR\",\n",
    "                \"LOGRADOURO_IMPDEPOIS\",\n",
    "                \"LOGRADOURO_CV115ORIGINAL\",\n",
    "                \"NUMERO_IMPANTERIOR\",\n",
    "                \"NUMERO_IMPDEPOIS\",\n",
    "                \"NUMERO_CV115ORIGINAL\",\n",
    "                \"COMPLEMENTO_IMPANTERIOR\",\n",
    "                \"COMPLEMENTO_IMPDEPOIS\",\n",
    "                \"COMPLEMENTO_CV115ORIGINAL\",\n",
    "                \"CEP_IMPANTERIOR\",\n",
    "                \"CEP_IMPDEPOIS\",\n",
    "                \"CEP_CV115ORIGINAL\",\n",
    "                \"BAIRRO_IMPANTERIOR\",\n",
    "                \"BAIRRO_IMPDEPOIS\",\n",
    "                \"BAIRRO_CV115ORIGINAL\",\n",
    "                \"MUNICIPIO_IMPANTERIOR\",\n",
    "                \"MUNICIPIO_IMPDEPOIS\",\n",
    "                \"MUNICIPIO_CV115ORIGINAL\",\n",
    "                \"UF_IMPANTERIOR\",\n",
    "                \"UF_IMPDEPOIS\",\n",
    "                \"UF_CV115ORIGINAL\",\n",
    "                \"TELEFONE_CONTATO_IMPANTERIOR\",\n",
    "                \"TELEFONE_CONTATO_IMPDEPOIS\",\n",
    "                \"TELEFONE_CONTATO_CV115ORIGINAL\",\n",
    "                \"CODIGO_CLIENTE_IMPANTERIOR\",\n",
    "                \"CODIGO_CLIENTE_IMPDEPOIS\",\n",
    "                \"CODIGO_CLIENTE_CV115ORIGINAL\",\n",
    "                \"TERMINAL_IMPANTERIOR\",\n",
    "                \"TERMINAL_IMPDEPOIS\",\n",
    "                \"TERMINAL_CV115ORIGINAL\",\n",
    "                \"UF_HABILITACAO_IMPANTERIOR\",\n",
    "                \"UF_HABILITACAO_IMPDEPOIS\",\n",
    "                \"UF_HABILITACAO_CV115ORIGINAL\",\n",
    "                \"DATA_EMISSAO_IMPANTERIOR\",\n",
    "                \"DATA_EMISSAO_IMPDEPOIS\",\n",
    "                \"DATA_EMISSAO_CV115ORIGINAL\"]"
   ]
  },
  {
   "cell_type": "code",
   "execution_count": 14,
   "metadata": {},
   "outputs": [
    {
     "data": {
      "text/plain": [
       "2"
      ]
     },
     "execution_count": 14,
     "metadata": {},
     "output_type": "execute_result"
    }
   ],
   "source": [
    "len(l_retorno)"
   ]
  },
  {
   "cell_type": "code",
   "execution_count": 17,
   "metadata": {},
   "outputs": [],
   "source": [
    "l_linha:int = 10\n",
    "l_coluna:int = 1  "
   ]
  },
  {
   "cell_type": "code",
   "execution_count": 18,
   "metadata": {},
   "outputs": [
    {
     "name": "stdout",
     "output_type": "stream",
     "text": [
      "10\n"
     ]
    }
   ],
   "source": [
    "print(l_linha)"
   ]
  },
  {
   "cell_type": "code",
   "execution_count": 25,
   "metadata": {},
   "outputs": [
    {
     "name": "stdout",
     "output_type": "stream",
     "text": [
      "1,"
     ]
    }
   ],
   "source": [
    "for i in range (1,2):\n",
    "    print(i,end=',')"
   ]
  },
  {
   "cell_type": "code",
   "execution_count": 26,
   "metadata": {},
   "outputs": [
    {
     "data": {
      "text/plain": [
       "51"
      ]
     },
     "execution_count": 26,
     "metadata": {},
     "output_type": "execute_result"
    }
   ],
   "source": [
    "len(l_retorno[0])"
   ]
  },
  {
   "cell_type": "code",
   "execution_count": 33,
   "metadata": {},
   "outputs": [
    {
     "name": "stdout",
     "output_type": "stream",
     "text": [
      "A1 >> A2\n"
     ]
    }
   ],
   "source": [
    "X = str(\"A1\")\n",
    "B = str(X).replace(\"1\",\"2\")\n",
    "print(str(X) + \" >> \" + str(B))"
   ]
  },
  {
   "cell_type": "code",
   "execution_count": null,
   "metadata": {},
   "outputs": [],
   "source": []
  }
 ],
 "metadata": {
  "kernelspec": {
   "display_name": "Python 3",
   "language": "python",
   "name": "python3"
  },
  "language_info": {
   "codemirror_mode": {
    "name": "ipython",
    "version": 3
   },
   "file_extension": ".py",
   "mimetype": "text/x-python",
   "name": "python",
   "nbconvert_exporter": "python",
   "pygments_lexer": "ipython3",
   "version": "3.8.5"
  }
 },
 "nbformat": 4,
 "nbformat_minor": 4
}
