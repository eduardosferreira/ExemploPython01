{
 "cells": [
  {
   "cell_type": "code",
   "execution_count": 24,
   "metadata": {},
   "outputs": [
    {
     "name": "stdout",
     "output_type": "stream",
     "text": [
      "(12, 24) {'parametro_lista': [12, 24]}\n",
      "(12, 24) {'parametro_lista': [1, 2, 3, 4]}\n",
      "[12, 24]\n"
     ]
    }
   ],
   "source": [
    "def fnc_arg(*args,**kwargs):\n",
    "    print(args,kwargs)\n",
    "    kwargs['parametro_lista']= [1,2,3,4]\n",
    "    print(args,kwargs)\n",
    "    \n",
    "\n",
    "lista = [x*3 if x > 1 else 0 for x in [1,2,3,4,5,6,8,9] if x % 2 == 0 if x % 4 == 0]\n",
    "\n",
    "fnc_arg(*lista,parametro_lista=lista)\n",
    "\n",
    "print(lista)\n"
   ]
  },
  {
   "cell_type": "code",
   "execution_count": 15,
   "metadata": {},
   "outputs": [
    {
     "name": "stdout",
     "output_type": "stream",
     "text": [
      "([[1, 2, 3, 4], [5, 6, 7, 8], [9, 10, 11, 12]], [[1, 5, 9], [2, 6, 10], [3, 7, 11], [4, 8, 12]])\n"
     ]
    }
   ],
   "source": [
    "matriz = [[1, 2, 3, 4], [5, 6, 7, 8], [9, 10, 11, 12]]\n",
    "transposta = [[linha[i] for linha in matriz] for i in range(4)]\n",
    "fnc_arg(matriz,transposta)"
   ]
  },
  {
   "cell_type": "code",
   "execution_count": 32,
   "metadata": {},
   "outputs": [
    {
     "name": "stdout",
     "output_type": "stream",
     "text": [
      "4\n",
      "4\n",
      "4\n"
     ]
    }
   ],
   "source": [
    "def fnc_a():\n",
    "    global a\n",
    "    a = 2\n",
    "    a = a*2\n",
    "    print(a)\n",
    "\n",
    "def fnc_b():\n",
    "    print(a)\n",
    "    \n",
    "fnc_a()\n",
    "fnc_b()\n",
    "print(a)\n",
    "\n"
   ]
  },
  {
   "cell_type": "code",
   "execution_count": 53,
   "metadata": {},
   "outputs": [
    {
     "name": "stdout",
     "output_type": "stream",
     "text": [
      "1-f c=10\n",
      "3-f c=5\n",
      "4-f c=5\n",
      "f1 c=10\n",
      "f2 c=30\n",
      "5-f c=10\n",
      "2-f c=30\n"
     ]
    }
   ],
   "source": [
    "def f():\n",
    "    c = 5\n",
    "    print(f'3-f c={c}')\n",
    "    def f1():\n",
    "        nonlocal c\n",
    "        c = c * 2\n",
    "        print(f'f1 c={c}')\n",
    " \n",
    "    def f2():\n",
    "        global c\n",
    "        c = c * 3\n",
    "        print(f'f2 c={c}')\n",
    " \n",
    "    print(f'4-f c={c}')\n",
    "    \n",
    "    f1()\n",
    "    f2()\n",
    "   \n",
    "    print(f'5-f c={c}')\n",
    "   \n",
    "  \n",
    "c = 10\n",
    "print(f'1-f c={c}')  \n",
    "f()\n",
    "print(f'2-f c={c}')"
   ]
  },
  {
   "cell_type": "code",
   "execution_count": 65,
   "metadata": {},
   "outputs": [
    {
     "name": "stdout",
     "output_type": "stream",
     "text": [
      "<function funcao2 at 0x0000027D45CC1A60> teste->(1, 2, 3, 4, 5)\n"
     ]
    }
   ],
   "source": [
    "def funcao1(p_funcao):\n",
    "    print(p_funcao,p_funcao(1,2,3,4,5))\n",
    "\n",
    "def funcao2(*args):\n",
    "    return \"teste->\"+ str(args) \n",
    "    \n",
    "funcao1(funcao2)    "
   ]
  },
  {
   "cell_type": "code",
   "execution_count": 66,
   "metadata": {},
   "outputs": [
    {
     "name": "stdout",
     "output_type": "stream",
     "text": [
      "oi Nome SobreNome\n"
     ]
    }
   ],
   "source": [
    "def oi(p):\n",
    "    return f'{p}'\n",
    "\n",
    "def saudacao(p1,p2):\n",
    "    return f'{p1} {p2}'\n",
    "\n",
    "def principal(p=\"oi\",p1=\"Nome\",p2=\"SobreNome\",f1=oi,f2=saudacao):\n",
    "    print(f1(p),f2(p1,p2))\n",
    "    \n",
    "principal()    "
   ]
  },
  {
   "cell_type": "code",
   "execution_count": null,
   "metadata": {},
   "outputs": [],
   "source": [
    "def f1(p1=\"p1\"):\n",
    "    return f'{p1}'\n",
    "\n",
    "def saudacao(p1=\"p1\",p2=\"p2\"):\n",
    "    return f'{p1} {p2}'\n",
    "\n",
    "def principal(f,*args,**kwargs):\n",
    "    print(f(*args,**kwargs))\n",
    "    \n",
    "principal()    "
   ]
  }
 ],
 "metadata": {
  "kernelspec": {
   "display_name": "Python 3",
   "language": "python",
   "name": "python3"
  },
  "language_info": {
   "codemirror_mode": {
    "name": "ipython",
    "version": 3
   },
   "file_extension": ".py",
   "mimetype": "text/x-python",
   "name": "python",
   "nbconvert_exporter": "python",
   "pygments_lexer": "ipython3",
   "version": "3.8.5"
  }
 },
 "nbformat": 4,
 "nbformat_minor": 4
}
