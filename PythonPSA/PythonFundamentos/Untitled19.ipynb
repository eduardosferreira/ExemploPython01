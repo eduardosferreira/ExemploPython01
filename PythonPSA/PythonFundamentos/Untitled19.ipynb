{
 "cells": [
  {
   "cell_type": "code",
   "execution_count": 28,
   "metadata": {},
   "outputs": [],
   "source": [
    "gv_cc_regras = 'SANMC_RN_0-0'"
   ]
  },
  {
   "cell_type": "code",
   "execution_count": 29,
   "metadata": {},
   "outputs": [],
   "source": [
    "gv_cc_lista = gv_cc_regras.split(\",\")"
   ]
  },
  {
   "cell_type": "code",
   "execution_count": 30,
   "metadata": {},
   "outputs": [
    {
     "data": {
      "text/plain": [
       "['SANMC_RN_0-0']"
      ]
     },
     "execution_count": 30,
     "metadata": {},
     "output_type": "execute_result"
    }
   ],
   "source": [
    "gv_cc_lista"
   ]
  },
  {
   "cell_type": "code",
   "execution_count": 31,
   "metadata": {},
   "outputs": [
    {
     "name": "stdout",
     "output_type": "stream",
     "text": [
      "Regra Invalida! SANMC_RN_0-0\n"
     ]
    }
   ],
   "source": [
    "for regra in gv_cc_lista:\n",
    "    if (str(regra).strip().upper() not in ('SANEADOR_NOTA_FISCAL_MERCADORIA','SANMC_RN_010','SANMC_RN_030','SANMC_RN_040_SAIDA','SANMC_RN_040_ENTRADA','SANMC_RN_050','SANMC_RN_060_ENTRADA','SANMC_RN_060_SAIDA','SANMC_RN_070','SANMC_RN_090','SANMC_RN_100_SAIDA','SANMC_RN_100_ENTRADA')\n",
    "    ):\n",
    "        print(\"Regra Invalida!\",regra)\n",
    "        "
   ]
  },
  {
   "cell_type": "code",
   "execution_count": null,
   "metadata": {},
   "outputs": [],
   "source": []
  }
 ],
 "metadata": {
  "kernelspec": {
   "display_name": "Python 3",
   "language": "python",
   "name": "python3"
  },
  "language_info": {
   "codemirror_mode": {
    "name": "ipython",
    "version": 3
   },
   "file_extension": ".py",
   "mimetype": "text/x-python",
   "name": "python",
   "nbconvert_exporter": "python",
   "pygments_lexer": "ipython3",
   "version": "3.8.5"
  }
 },
 "nbformat": 4,
 "nbformat_minor": 4
}
