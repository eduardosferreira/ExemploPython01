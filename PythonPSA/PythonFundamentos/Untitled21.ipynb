{
 "cells": [
  {
   "cell_type": "code",
   "execution_count": 6,
   "metadata": {},
   "outputs": [
    {
     "name": "stdout",
     "output_type": "stream",
     "text": [
      "1\n",
      "1\n",
      "2 1\n"
     ]
    }
   ],
   "source": [
    "def f1(p1=\"p1\"):\n",
    "    return f'{p1}'\n",
    "\n",
    "def f2(p1=\"p1\",p2=\"p2\"):\n",
    "    return f'{p1} {p2}'\n",
    "\n",
    "def funcao(pf,*args,**kwargs):\n",
    "    print(pf(*args,**kwargs))\n",
    "    \n",
    "funcao(f1,p1=\"1\")    \n",
    "funcao(f1,\"1\") \n",
    "funcao(f2,p2=\"1\",p1=\"2\") "
   ]
  },
  {
   "cell_type": "code",
   "execution_count": 38,
   "metadata": {},
   "outputs": [
    {
     "name": "stdout",
     "output_type": "stream",
     "text": [
      "[('P4', 500), ('P2', 100), ('P1', 12, <built-in function print>), ('PP', 12), ('P3', -1)]\n",
      "[('P4', 500), ('P2', 100), ('P1', 12, <built-in function print>), ('PP', 12), ('P3', -1)]\n",
      "[('P1', 12, <built-in function print>), ('P2', 100), ('P3', -1), ('P4', 500)]\n",
      "[('P1', 12, <built-in function print>), ('P2', 100), ('P3', -1), ('P4', 500)]\n",
      "[('P1', 12, <built-in function print>), ('P2', 100), ('P3', -1), ('P4', 500)]\n",
      "l2\n",
      "[('P4', 500), ('P2', 100), ('PP', 12), ('P5', 0), ('P3', -1)]\n",
      "[('P4', 500), ('P2', 100), ('PP', 12), ('P5', 0), ('P3', -1)]\n",
      "[('P1', 12, <built-in function print>), ('P2', 100), ('P3', -1), ('P4', 500)]\n",
      "[('P1', 12, <built-in function print>), ('P2', 100), ('P3', -1), ('P4', 500)]\n",
      "[('P1', 12, <built-in function print>), ('P2', 100), ('P3', -1), ('P4', 500)]\n",
      "l3\n",
      "[('P4', 500), ('P2', 100), ('PP', 12), ('P5', 0), ('P3', -1)]\n",
      "[('P4', 500), ('P2', 100), ('PP', 12), ('P5', 0), ('P3', -1)]\n",
      "[('P2', 100), ('P3', -1), ('P4', 500), ('P6', 0)]\n",
      "[('P1', 12, <built-in function print>), ('P2', 100), ('P3', -1), ('P4', 500)]\n",
      "[('P3', -1), ('P1', 12, <built-in function print>), ('P2', 100), ('P4', 500)]\n"
     ]
    }
   ],
   "source": [
    "import copy\n",
    "l1 = [('P1',12,print),('P2',100),('P3',-1),('P4',500)]\n",
    "l2 = l1\n",
    "l3 = l1.copy()\n",
    "l4 = copy.deepcopy(l1)\n",
    "l5 = l1[:]\n",
    "l1.append(('PP',12))\n",
    "l1.sort(key=lambda item: item[1],reverse=True)\n",
    "print(l1,l2,l3,l4,l5,sep='\\n')\n",
    "l2[2] = ('P5',0)\n",
    "l2.sort(key=lambda item: item[1],reverse=True)\n",
    "print(\"l2\")\n",
    "print(l1,l2,l3,l4,l5,sep='\\n')\n",
    "l3[0] = ('P6',0)\n",
    "l3.sort(key=lambda item: item[0])\n",
    "print(\"l3\")\n",
    "print(l1,l2,l3,l4,sorted(l5,key=lambda i: i[1]),sep='\\n')\n"
   ]
  },
  {
   "cell_type": "code",
   "execution_count": 62,
   "metadata": {},
   "outputs": [
    {
     "name": "stdout",
     "output_type": "stream",
     "text": [
      "(1,)\n",
      "(2, 3)\n",
      "(4, 5, 6)\n",
      "(10,)\n",
      "[0, {4, 5, 6}]\n",
      "(1, 2, 3, 4, 5, 6, 10, 0, {4, 5, 6})\n",
      "((1,), (2, 3), (4, 5, 6), [(10,), [0, {4, 5, 6}]])\n",
      "(1,)\n",
      "[(10,), [0, {4, 5, 6}]]\n"
     ]
    }
   ],
   "source": [
    "t1 = 1,\n",
    "t2 = 2,3\n",
    "t3 = (4,5,6)\n",
    "t4 = tuple([10])\n",
    "t5 = [0,[1,2]]\n",
    "t5[1] = set(t4)\n",
    "t5[1] = set(t3)\n",
    "t6 = t1+t2+t3+t4+tuple(t5)\n",
    "t7 = t1,t2,t3,[t4,t5]\n",
    "primeiro,*_,ultimo = t7 \n",
    "print(t1,t2,t3,t4,t5,t6,t7,primeiro,ultimo,sep='\\n')"
   ]
  },
  {
   "cell_type": "code",
   "execution_count": 52,
   "metadata": {},
   "outputs": [
    {
     "name": "stdout",
     "output_type": "stream",
     "text": [
      "('orange', 'kiwi', 'melon')\n"
     ]
    }
   ],
   "source": [
    "thistuple = (\"apple\", \"banana\", \"cherry\", \"orange\", \"kiwi\", \"melon\", \"mango\")\n",
    "print(thistuple[-4:-1])"
   ]
  },
  {
   "cell_type": "code",
   "execution_count": 86,
   "metadata": {},
   "outputs": [
    {
     "name": "stdout",
     "output_type": "stream",
     "text": [
      "{'k1': 'v1', 'k2': 'v2'}\n",
      "{'k1': 'v1', 'k2': [4, 6]}\n",
      "{'k1': 'v1', 'k2': [5, 6]}\n",
      "{'k1': 'v1', 'k2': [4, 6]}\n",
      "{'k1': 'v1', 'k2': [4, 6]}\n",
      "None\n",
      "v2\n"
     ]
    }
   ],
   "source": [
    "from copy import copy,deepcopy \n",
    "d1 = dict(k1='v1',k2=\"v2\")\n",
    "d2 = {'k1':'v1','k2':[5,6]}\n",
    "\n",
    "d3= deepcopy(d2)\n",
    "d4 = d2.copy()\n",
    "d5 = d2\n",
    "\n",
    "d2['k2'][0] = 4\n",
    "\n",
    "print(d1,d2,d3,d4,d5,d1.get(\"k3\"),d1.get(\"k2\"),sep=\"\\n\")"
   ]
  },
  {
   "cell_type": "code",
   "execution_count": null,
   "metadata": {},
   "outputs": [],
   "source": []
  }
 ],
 "metadata": {
  "kernelspec": {
   "display_name": "Python 3",
   "language": "python",
   "name": "python3"
  },
  "language_info": {
   "codemirror_mode": {
    "name": "ipython",
    "version": 3
   },
   "file_extension": ".py",
   "mimetype": "text/x-python",
   "name": "python",
   "nbconvert_exporter": "python",
   "pygments_lexer": "ipython3",
   "version": "3.8.5"
  }
 },
 "nbformat": 4,
 "nbformat_minor": 4
}
