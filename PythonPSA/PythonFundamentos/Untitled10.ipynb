{
 "cells": [
  {
   "cell_type": "code",
   "execution_count": 1,
   "metadata": {},
   "outputs": [
    {
     "name": "stdout",
     "output_type": "stream",
     "text": [
      "EtsEt\n",
      "zUrtsEvA Od OvO O\n",
      "AdAçArgnE OtIUm AsAc A\n",
      "UOrbEUq OãsIvElEt A\n",
      "AlErAmA AcAv A\n"
     ]
    }
   ],
   "source": [
    "def fazAlgo(string):\n",
    "    pos = len(string)-1\n",
    "    stringMi = string.lower()\n",
    "    string = string.upper()\n",
    "    stringRe = \"\"\n",
    "    while pos >= 0:\n",
    "        if string[pos] == 'A' or string[pos] == 'E' or string[pos] == 'I' or string[pos] == 'O' or string[pos] == 'U':\n",
    "            stringRe = stringRe + string[pos]\n",
    "        else:\n",
    "            stringRe = stringRe + stringMi[pos]\n",
    "        pos = pos - 1\n",
    "    return stringRe\n",
    "\n",
    "if __name__ == \"__main__\":\n",
    "    print(fazAlgo(\"teste\"))\n",
    "    print(fazAlgo(\"o ovo do avestruz\"))\n",
    "    print(fazAlgo(\"A CASA MUITO ENGRAÇADA\"))\n",
    "    print(fazAlgo(\"A TELEvisão queBROU\"))\n",
    "    print(fazAlgo(\"A Vaca Amarela\"))"
   ]
  },
  {
   "cell_type": "code",
   "execution_count": 2,
   "metadata": {},
   "outputs": [],
   "source": [
    "def fnc_maiusculas(p_cc_dados):\n",
    "    ''' \n",
    "    (str)\n",
    "    Funcao verifica quais são os dados maiusculas\n",
    "    '''\n",
    "    \n",
    "    cc_dados = \"\"\n",
    "    \n",
    "    cc_lista = str(p_cc_dados)\n",
    "    \n",
    "    try:\n",
    "\n",
    "        for dado in cc_lista:\n",
    "            if dado == dado.upper() \\\n",
    "            and len(dado.strip()) > 0:\n",
    "                cc_dados += dado            \n",
    "                \n",
    "    \n",
    "    except:\n",
    "    \n",
    "        pass\n",
    "    \n",
    "    return cc_dados"
   ]
  },
  {
   "cell_type": "code",
   "execution_count": 3,
   "metadata": {},
   "outputs": [
    {
     "data": {
      "text/plain": [
       "'ESF'"
      ]
     },
     "execution_count": 3,
     "metadata": {},
     "output_type": "execute_result"
    }
   ],
   "source": [
    "fnc_maiusculas(\"Eduardo da Silva Ferreira\")\n"
   ]
  },
  {
   "cell_type": "code",
   "execution_count": 4,
   "metadata": {},
   "outputs": [],
   "source": [
    "def maiusculas(parametro):\n",
    "    return fnc_maiusculas(parametro)"
   ]
  },
  {
   "cell_type": "code",
   "execution_count": 5,
   "metadata": {},
   "outputs": [
    {
     "data": {
      "text/plain": [
       "'P2?'"
      ]
     },
     "execution_count": 5,
     "metadata": {},
     "output_type": "execute_result"
    }
   ],
   "source": [
    "maiusculas('Programamos em python 2?')"
   ]
  },
  {
   "cell_type": "code",
   "execution_count": 6,
   "metadata": {},
   "outputs": [],
   "source": [
    "import string"
   ]
  },
  {
   "cell_type": "code",
   "execution_count": 7,
   "metadata": {},
   "outputs": [
    {
     "data": {
      "text/plain": [
       "<module 'string' from 'C:\\\\ProgramData\\\\Anaconda3\\\\lib\\\\string.py'>"
      ]
     },
     "execution_count": 7,
     "metadata": {},
     "output_type": "execute_result"
    }
   ],
   "source": [
    "string"
   ]
  },
  {
   "cell_type": "code",
   "execution_count": 8,
   "metadata": {},
   "outputs": [
    {
     "data": {
      "text/plain": [
       "'abcdefghijklmnopqrstuvwxyz'"
      ]
     },
     "execution_count": 8,
     "metadata": {},
     "output_type": "execute_result"
    }
   ],
   "source": [
    "string.ascii_lowercase"
   ]
  },
  {
   "cell_type": "code",
   "execution_count": 9,
   "metadata": {},
   "outputs": [
    {
     "data": {
      "text/plain": [
       "'ABCDEFGHIJKLMNOPQRSTUVWXYZ'"
      ]
     },
     "execution_count": 9,
     "metadata": {},
     "output_type": "execute_result"
    }
   ],
   "source": [
    "string.ascii_uppercase"
   ]
  },
  {
   "cell_type": "code",
   "execution_count": 10,
   "metadata": {},
   "outputs": [
    {
     "data": {
      "text/plain": [
       "True"
      ]
     },
     "execution_count": 10,
     "metadata": {},
     "output_type": "execute_result"
    }
   ],
   "source": [
    "'A' in string.ascii_uppercase"
   ]
  },
  {
   "cell_type": "code",
   "execution_count": 13,
   "metadata": {},
   "outputs": [],
   "source": [
    "import string \n",
    "\n",
    "def maiusculas(parametro):\n",
    "    return fnc_maiusculas(parametro)\n",
    "\n",
    "def fnc_maiusculas(p_cc_dados):\n",
    "    ''' \n",
    "    (str)\n",
    "    Funcao verifica quais são os dados maiusculas\n",
    "    '''\n",
    "    \n",
    "    cc_dados = \"\"\n",
    "    \n",
    "    cc_lista = str(p_cc_dados)\n",
    "    \n",
    "    try:\n",
    "\n",
    "        for dado in cc_lista:\n",
    "            if dado in string.ascii_uppercase:\n",
    "                cc_dados += dado            \n",
    "                \n",
    "    \n",
    "    except:\n",
    "    \n",
    "        pass\n",
    "    \n",
    "    return cc_dados"
   ]
  },
  {
   "cell_type": "code",
   "execution_count": 12,
   "metadata": {},
   "outputs": [
    {
     "data": {
      "text/plain": [
       "'P'"
      ]
     },
     "execution_count": 12,
     "metadata": {},
     "output_type": "execute_result"
    }
   ],
   "source": [
    "maiusculas('Programamos em python 2?')"
   ]
  },
  {
   "cell_type": "code",
   "execution_count": 14,
   "metadata": {},
   "outputs": [
    {
     "data": {
      "text/plain": [
       "'PP'"
      ]
     },
     "execution_count": 14,
     "metadata": {},
     "output_type": "execute_result"
    }
   ],
   "source": [
    "maiusculas('Programamos em Python 3.')"
   ]
  },
  {
   "cell_type": "code",
   "execution_count": 15,
   "metadata": {},
   "outputs": [
    {
     "data": {
      "text/plain": [
       "'PORMMS'"
      ]
     },
     "execution_count": 15,
     "metadata": {},
     "output_type": "execute_result"
    }
   ],
   "source": [
    "maiusculas('PrOgRaMaMoS em python!')"
   ]
  },
  {
   "cell_type": "code",
   "execution_count": 16,
   "metadata": {},
   "outputs": [],
   "source": [
    "cc_dado = \"1,2,3\"\n",
    "cc_lista = cc_dado.split(\",\")"
   ]
  },
  {
   "cell_type": "code",
   "execution_count": 17,
   "metadata": {},
   "outputs": [
    {
     "data": {
      "text/plain": [
       "['1', '2', '3']"
      ]
     },
     "execution_count": 17,
     "metadata": {},
     "output_type": "execute_result"
    }
   ],
   "source": [
    "cc_lista"
   ]
  },
  {
   "cell_type": "code",
   "execution_count": 18,
   "metadata": {},
   "outputs": [
    {
     "data": {
      "text/plain": [
       "['123']"
      ]
     },
     "execution_count": 18,
     "metadata": {},
     "output_type": "execute_result"
    }
   ],
   "source": [
    "cc_dado = \"123\"\n",
    "cc_lista = cc_dado.split(\",\")\n",
    "cc_lista"
   ]
  },
  {
   "cell_type": "code",
   "execution_count": 19,
   "metadata": {},
   "outputs": [],
   "source": [
    "a = ['maria', 'josé', 'PAULO', 'Catarina']"
   ]
  },
  {
   "cell_type": "code",
   "execution_count": 20,
   "metadata": {},
   "outputs": [
    {
     "data": {
      "text/plain": [
       "'Catarina'"
      ]
     },
     "execution_count": 20,
     "metadata": {},
     "output_type": "execute_result"
    }
   ],
   "source": [
    "min(a)"
   ]
  },
  {
   "cell_type": "code",
   "execution_count": 21,
   "metadata": {},
   "outputs": [
    {
     "data": {
      "text/plain": [
       "'maria'"
      ]
     },
     "execution_count": 21,
     "metadata": {},
     "output_type": "execute_result"
    }
   ],
   "source": [
    "max(a)"
   ]
  },
  {
   "cell_type": "code",
   "execution_count": 22,
   "metadata": {},
   "outputs": [
    {
     "data": {
      "text/plain": [
       "4"
      ]
     },
     "execution_count": 22,
     "metadata": {},
     "output_type": "execute_result"
    }
   ],
   "source": [
    "len(a)"
   ]
  },
  {
   "cell_type": "code",
   "execution_count": null,
   "metadata": {},
   "outputs": [],
   "source": [
    "ord(a[0][0])"
   ]
  },
  {
   "cell_type": "code",
   "execution_count": 24,
   "metadata": {},
   "outputs": [],
   "source": [
    "def menor_nome(parametro):\n",
    "    return fnc_menor_nome(parametro)\n",
    "\n",
    "def fnc_menor_nome(p_cc_dados):\n",
    "    ''' \n",
    "    (str)\n",
    "    Funcao verifica quais são os dados maiusculas\n",
    "    '''\n",
    "    \n",
    "    cc_dados = \"\"\n",
    "    \n",
    "    ob_lst = []\n",
    "    \n",
    "    if isinstance(p_cc_dados, list):\n",
    "    \n",
    "        try:\n",
    "            \n",
    "            for dado in p_cc_dados:\n",
    "                if (len(cc_dados) == 0 \\\n",
    "                and len(str(dado.strip())) > 0) \\\n",
    "                or (len(cc_dados) > 0 \\\n",
    "                and len(str(dado.strip())) > 0 \\\n",
    "                and len(cc_dados) > len(str(dado.strip()))) \\\n",
    "                :\n",
    "                    cc_dados = str(dado.strip())\n",
    "            \n",
    "            if len(cc_dados) > 0:\n",
    "                for dado in p_cc_dados:\n",
    "                    if len(cc_dados) == len(str(dado.strip())): \n",
    "                        ob_lst.append(str(dado.strip()))        \n",
    "                \n",
    "                if len(ob_lst) > 1:\n",
    "                    cc_dados = str(ob_lst[0])\n",
    "                    for dado in ob_lst:\n",
    "                        if len(cc_dados) < len(str(dado)):\n",
    "                            cc_dados = str(dado)        \n",
    "                            \n",
    "        except:\n",
    "        \n",
    "            pass\n",
    "    \n",
    "    return cc_dados.capitalize()"
   ]
  },
  {
   "cell_type": "code",
   "execution_count": 25,
   "metadata": {},
   "outputs": [
    {
     "data": {
      "text/plain": [
       "'José'"
      ]
     },
     "execution_count": 25,
     "metadata": {},
     "output_type": "execute_result"
    }
   ],
   "source": [
    "menor_nome(['maria', 'josé', 'PAULO', 'Catarina'])"
   ]
  },
  {
   "cell_type": "code",
   "execution_count": 26,
   "metadata": {},
   "outputs": [
    {
     "data": {
      "text/plain": [
       "'José'"
      ]
     },
     "execution_count": 26,
     "metadata": {},
     "output_type": "execute_result"
    }
   ],
   "source": [
    "menor_nome(['maria', ' josé  ', '  PAULO', 'Catarina  '])"
   ]
  },
  {
   "cell_type": "code",
   "execution_count": 27,
   "metadata": {},
   "outputs": [
    {
     "data": {
      "text/plain": [
       "'José'"
      ]
     },
     "execution_count": 27,
     "metadata": {},
     "output_type": "execute_result"
    }
   ],
   "source": [
    "menor_nome(['Bárbara', 'JOSÉ  ', 'Bill'])"
   ]
  },
  {
   "cell_type": "code",
   "execution_count": null,
   "metadata": {},
   "outputs": [],
   "source": []
  }
 ],
 "metadata": {
  "kernelspec": {
   "display_name": "Python 3",
   "language": "python",
   "name": "python3"
  },
  "language_info": {
   "codemirror_mode": {
    "name": "ipython",
    "version": 3
   },
   "file_extension": ".py",
   "mimetype": "text/x-python",
   "name": "python",
   "nbconvert_exporter": "python",
   "pygments_lexer": "ipython3",
   "version": "3.8.5"
  }
 },
 "nbformat": 4,
 "nbformat_minor": 4
}
