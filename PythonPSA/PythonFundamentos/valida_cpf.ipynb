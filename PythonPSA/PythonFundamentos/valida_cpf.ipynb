{
 "cells": [
  {
   "cell_type": "code",
   "execution_count": 33,
   "metadata": {},
   "outputs": [
    {
     "name": "stdout",
     "output_type": "stream",
     "text": [
      "Digite seu CPF:11111111122\n"
     ]
    }
   ],
   "source": [
    "vnr_cpf= str(input(\"Digite seu CPF:\")).replace(\".\",\"\").replace(\"-\",\"\").strip()"
   ]
  },
  {
   "cell_type": "code",
   "execution_count": 106,
   "metadata": {},
   "outputs": [
    {
     "name": "stdout",
     "output_type": "stream",
     "text": [
      "0 12\n",
      "1 11\n",
      "2 10\n",
      "3 9\n",
      "4 8\n",
      "5 7\n",
      "6 6\n",
      "7 5\n",
      "8 4\n",
      "9 3\n",
      "10 2\n"
     ]
    }
   ],
   "source": [
    "for p, r in enumerate(range(len(vnr_cpf)+1,1,-1)):\n",
    "    print(p,r)"
   ]
  },
  {
   "cell_type": "code",
   "execution_count": 66,
   "metadata": {},
   "outputs": [
    {
     "name": "stdout",
     "output_type": "stream",
     "text": [
      "01234567890 0123456789\n"
     ]
    }
   ],
   "source": [
    "vnr_cpf = \"01234567890\"\n",
    "print(vnr_cpf,str(vnr_cpf)[0:10])"
   ]
  },
  {
   "cell_type": "code",
   "execution_count": 131,
   "metadata": {},
   "outputs": [],
   "source": [
    "vnr_cpf = \"04345873122\""
   ]
  },
  {
   "cell_type": "code",
   "execution_count": 132,
   "metadata": {},
   "outputs": [
    {
     "name": "stdout",
     "output_type": "stream",
     "text": [
      "0 0 0 0 0\n",
      "1 36 40 0 4\n",
      "2 60 67 0 3\n",
      "3 88 99 0 4\n",
      "4 118 134 0 5\n",
      "5 158 182 0 8\n",
      "6 186 217 0 7\n",
      "7 195 229 0 3\n",
      "8 197 232 0 1\n",
      "CPF inválido! [3] 04345873122 2 1\n"
     ]
    }
   ],
   "source": [
    "def fnc_valida_cpf(p_nr_cpf):\n",
    "vnr_1_dig = 0\n",
    "vnr_soma_1_dig = 0\n",
    "vnr_soma_2_dig = 0\n",
    "\n",
    "if not vnr_cpf.isnumeric() \\\n",
    "or len(vnr_cpf) != 11 \\\n",
    ":\n",
    "    print(\"CPF inválido! [1]\",vnr_cpf)\n",
    "else:\n",
    "    for p, r in enumerate(range(len(vnr_cpf)+1,1,-1)):\n",
    "        if (p <= 9) \\\n",
    "        and ( \\\n",
    "            str(vnr_cpf)[0:11] == str(p)*11 \\\n",
    "            or str(vnr_cpf)[0:10] == str(p)*10 \\\n",
    "            or str(vnr_cpf)[0:9] == str(p)*9 \\\n",
    "            ) \\\n",
    "        :\n",
    "            print(\"CPF inválido! [2]\",vnr_cpf)\n",
    "            break\n",
    "\n",
    "        if p in (9,10):            \n",
    "            vnr_1_dig = (11-(int(vnr_soma_1_dig)%11)) \\\n",
    "                        if (p == 9 and 11-(int(vnr_soma_1_dig)%11)) <= 9 \\\n",
    "                        else (0 if p == 9 else (11-(int(vnr_soma_2_dig)%11)))\n",
    "            if (int(vnr_1_dig) != \\\n",
    "                   int(vnr_cpf[p])) \\\n",
    "            :\n",
    "                print(\"CPF inválido! [3]\",vnr_cpf,vnr_cpf[p],vnr_1_dig)  \n",
    "                break         \n",
    "           \n",
    "      \n",
    "        vnr_soma_1_dig += int(str(vnr_cpf)[p]) * (r-2) if p < 9 else 0\n",
    "        vnr_soma_2_dig += int(str(vnr_cpf)[p]) * (r-1) if p <= 9 else 0           \n",
    "    \n",
    "            \n",
    "        print(p,vnr_soma_1_dig,vnr_soma_2_dig,vnr_1_dig,int(str(vnr_cpf)[p]))    \n"
   ]
  },
  {
   "cell_type": "code",
   "execution_count": 237,
   "metadata": {},
   "outputs": [],
   "source": [
    "def fnc_valida_cpf(p_nr_cpf):\n",
    "\tvfl_ret = True\n",
    "\tvnr_1_dig = 0\n",
    "\tvnr_2_dig = 0\n",
    "\tvnr_soma_1_dig = 0\n",
    "\tvnr_soma_2_dig = 0\n",
    "\tv_nr_cpf = str(p_nr_cpf).replace(\".\",\"\").replace(\"-\",\"\").strip()\n",
    "\tif not v_nr_cpf.isnumeric() \\\n",
    "\tor len(v_nr_cpf) != 11 \\\n",
    "\t:\n",
    "\t\tvfl_ret = False\n",
    "\telse:\n",
    "\t\tfor p, r in enumerate(range(len(v_nr_cpf)+1,1,-1)):\n",
    "\t\t\tif (p <= 9) \\\n",
    "\t\t\tand ( \\\n",
    "\t\t\t\tstr(v_nr_cpf)[0:11] == str(p)*11 \\\n",
    "\t\t\t\t) \\\n",
    "\t\t\t:\n",
    "\t\t\t\tvfl_ret = False\n",
    "\t\t\t\tbreak\n",
    "\t\n",
    "\t\t\tif p == 9:            \n",
    "\t\t\t\tif (int(vnr_1_dig) != \\\n",
    "\t\t\t\t\tint(v_nr_cpf[p])) \\\n",
    "\t\t\t\t:\n",
    "\t\t\t\t\tvfl_ret = False \n",
    "\t\t\t\t\tbreak\n",
    "                    \n",
    "\t\t\tif p == 10:            \n",
    "\t\t\t\tif (int(vnr_2_dig) != \\\n",
    "\t\t\t\t\tint(v_nr_cpf[p])) \\\n",
    "\t\t\t\t:\n",
    "\t\t\t\t\tvfl_ret = False \n",
    "\t\t\t\t\tbreak\n",
    "\t\t\n",
    "\t\t\tvnr_soma_1_dig = (vnr_soma_1_dig + (int(str(v_nr_cpf)[p]) * (r-2))) if p < 9 else vnr_soma_1_dig\n",
    "\t\t\tvnr_soma_2_dig = (vnr_soma_2_dig + (int(str(v_nr_cpf)[p]) * (r-1))) if p <= 9 else vnr_soma_2_dig           \n",
    "\t\t\tvnr_1_dig = ((11-(int(vnr_soma_1_dig)%11))) if p < 9 else vnr_1_dig\n",
    "\t\t\tvnr_1_dig = 0 if vnr_1_dig > 9 else vnr_1_dig\n",
    "\t\t\tvnr_2_dig = ((11-(int(vnr_soma_2_dig)%11))) if p <= 9 else vnr_2_dig\n",
    "\t\t\t# print(p,r,v_nr_cpf,vnr_soma_1_dig,vnr_soma_2_dig,vnr_1_dig,vnr_2_dig)\n",
    "\treturn vfl_ret"
   ]
  },
  {
   "cell_type": "code",
   "execution_count": 239,
   "metadata": {},
   "outputs": [
    {
     "name": "stdout",
     "output_type": "stream",
     "text": [
      "True\n"
     ]
    }
   ],
   "source": [
    "print(fnc_valida_cpf(\"748.480.046-59\"))"
   ]
  },
  {
   "cell_type": "code",
   "execution_count": 241,
   "metadata": {},
   "outputs": [
    {
     "name": "stdout",
     "output_type": "stream",
     "text": [
      "69409160677 True 11\n"
     ]
    }
   ],
   "source": [
    "from random import randint\n",
    "\n",
    "x = ''.join([str(randint(0,9)) for n in range(11)])\n",
    "\n",
    "while not fnc_valida_cpf(x):\n",
    "    x = ''.join([str(randint(0,9)) for n in range(11)])\n",
    "\n",
    "print(x,fnc_valida_cpf(x),len(x))"
   ]
  },
  {
   "cell_type": "code",
   "execution_count": 177,
   "metadata": {},
   "outputs": [
    {
     "data": {
      "text/plain": [
       "'98023782677'"
      ]
     },
     "execution_count": 177,
     "metadata": {},
     "output_type": "execute_result"
    }
   ],
   "source": [
    "x"
   ]
  },
  {
   "cell_type": "code",
   "execution_count": 182,
   "metadata": {},
   "outputs": [],
   "source": [
    "matriz = [[1, 2, 3, 4], [5, 6, 7, 8], [9, 10, 11, 12]]\n",
    "transposta = [[linha[i] for linha in matriz] for i in range(len(matriz)+1)]\n"
   ]
  },
  {
   "cell_type": "code",
   "execution_count": 183,
   "metadata": {},
   "outputs": [
    {
     "data": {
      "text/plain": [
       "[[1, 5, 9], [2, 6, 10], [3, 7, 11], [4, 8, 12]]"
      ]
     },
     "execution_count": 183,
     "metadata": {},
     "output_type": "execute_result"
    }
   ],
   "source": [
    "transposta"
   ]
  },
  {
   "cell_type": "code",
   "execution_count": 184,
   "metadata": {},
   "outputs": [
    {
     "data": {
      "text/plain": [
       "[[1, 2, 3, 4], [5, 6, 7, 8], [9, 10, 11, 12]]"
      ]
     },
     "execution_count": 184,
     "metadata": {},
     "output_type": "execute_result"
    }
   ],
   "source": [
    "matriz"
   ]
  },
  {
   "cell_type": "code",
   "execution_count": 185,
   "metadata": {},
   "outputs": [
    {
     "data": {
      "text/plain": [
       "[0, 30, 60, 90]"
      ]
     },
     "execution_count": 185,
     "metadata": {},
     "output_type": "execute_result"
    }
   ],
   "source": [
    "resultado = [numero for numero in range(100) if numero % 5 == 0 if numero % 6 == 0]\n",
    "resultado"
   ]
  },
  {
   "cell_type": "code",
   "execution_count": 186,
   "metadata": {},
   "outputs": [
    {
     "data": {
      "text/plain": [
       "[0, 30, 60, 90]"
      ]
     },
     "execution_count": 186,
     "metadata": {},
     "output_type": "execute_result"
    }
   ],
   "source": [
    "resultado = [numero for numero in range(100) if numero % 5 == 0 and numero % 6 == 0]\n",
    "resultado"
   ]
  },
  {
   "cell_type": "code",
   "execution_count": 188,
   "metadata": {},
   "outputs": [
    {
     "data": {
      "text/plain": [
       "'99999999999'"
      ]
     },
     "execution_count": 188,
     "metadata": {},
     "output_type": "execute_result"
    }
   ],
   "source": [
    "\"9\" * 11"
   ]
  },
  {
   "cell_type": "code",
   "execution_count": 256,
   "metadata": {},
   "outputs": [],
   "source": [
    "def fnc_nome(pstr_msg=\"Ola\",pstr_nome=\"Mundo\"):\n",
    "    pstr_msg += \" \" + pstr_nome\n",
    "    print(pstr_msg)\n",
    "    return pstr_msg"
   ]
  },
  {
   "cell_type": "code",
   "execution_count": 258,
   "metadata": {},
   "outputs": [
    {
     "name": "stdout",
     "output_type": "stream",
     "text": [
      "Oi Mundo\n",
      "Oi Mundo\n",
      "Oi\n"
     ]
    }
   ],
   "source": [
    "vstr_nome = \"Oi\"\n",
    "print(fnc_nome(pstr_msg=vstr_nome))\n",
    "print(vstr_nome)"
   ]
  },
  {
   "cell_type": "code",
   "execution_count": 268,
   "metadata": {},
   "outputs": [
    {
     "name": "stdout",
     "output_type": "stream",
     "text": [
      "retorno\n",
      "imprimir\n",
      "None nao igual None\n"
     ]
    }
   ],
   "source": [
    "def fx(v):\n",
    "    print (v)\n",
    "\n",
    "def fy():\n",
    "    return fx\n",
    "\n",
    "vob_x = fy\n",
    "\n",
    "print(fy()(\"retorno\"),\"igual\" if fx == vob_x else \"nao igual\",vob_x()(\"imprimir\"))\n",
    "\n"
   ]
  },
  {
   "cell_type": "code",
   "execution_count": 276,
   "metadata": {},
   "outputs": [
    {
     "name": "stdout",
     "output_type": "stream",
     "text": [
      "('A', 'B', 'C')->A->('B',)\n"
     ]
    },
    {
     "data": {
      "text/plain": [
       "('B',)"
      ]
     },
     "execution_count": 276,
     "metadata": {},
     "output_type": "execute_result"
    }
   ],
   "source": [
    "def fz():\n",
    "    return \"A\",\"B\",\"C\"\n",
    "\n",
    "A = fz()[1:-1]\n",
    "print(fz(),fz()[0],A,sep=\"->\")\n",
    "\n"
   ]
  },
  {
   "cell_type": "code",
   "execution_count": 280,
   "metadata": {},
   "outputs": [
    {
     "name": "stdout",
     "output_type": "stream",
     "text": [
      "102.6\n"
     ]
    }
   ],
   "source": [
    "def fnc_ex1(pnr_valor,pnr_porcentagem):\n",
    "    return pnr_valor + (pnr_valor*pnr_porcentagem/100)\n",
    "print(fnc_ex1(100,2.6))"
   ]
  },
  {
   "cell_type": "code",
   "execution_count": 284,
   "metadata": {},
   "outputs": [
    {
     "name": "stdout",
     "output_type": "stream",
     "text": [
      "16\n"
     ]
    }
   ],
   "source": [
    "def fnc_ex2(pnr_valor):\n",
    "    v_valor = \"\"\n",
    "    if pnr_valor % 3 == 0 and pnr_valor % 5 == 0:\n",
    "        v_valor = \"FizzBuzz\"\n",
    "    elif pnr_valor % 3 == 0:\n",
    "        v_valor = \"fizz\"\n",
    "    elif pnr_valor % 5 == 0:\n",
    "        v_valor = \"buzz\"\n",
    "    elif not v_valor:\n",
    "        v_valor = str(pnr_valor)\n",
    "    return v_valor \n",
    "print(fnc_ex2(16))"
   ]
  },
  {
   "cell_type": "code",
   "execution_count": 291,
   "metadata": {},
   "outputs": [
    {
     "name": "stdout",
     "output_type": "stream",
     "text": [
      "[3, 4]\n",
      "(1, 2, [3, 4], [1, 2, 3, 4])\n"
     ]
    }
   ],
   "source": [
    "def fnc(*x):\n",
    "    print(x)\n",
    "    \n",
    "lista = [1,2,3,4]\n",
    "n1,n2,*n = lista\n",
    "print(n)\n",
    "fnc(n1,n2,n,lista)"
   ]
  },
  {
   "cell_type": "code",
   "execution_count": null,
   "metadata": {},
   "outputs": [],
   "source": []
  }
 ],
 "metadata": {
  "kernelspec": {
   "display_name": "Python 3",
   "language": "python",
   "name": "python3"
  },
  "language_info": {
   "codemirror_mode": {
    "name": "ipython",
    "version": 3
   },
   "file_extension": ".py",
   "mimetype": "text/x-python",
   "name": "python",
   "nbconvert_exporter": "python",
   "pygments_lexer": "ipython3",
   "version": "3.8.5"
  }
 },
 "nbformat": 4,
 "nbformat_minor": 4
}
