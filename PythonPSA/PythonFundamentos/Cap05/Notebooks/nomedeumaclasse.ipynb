{
 "cells": [
  {
   "cell_type": "code",
   "execution_count": 1,
   "metadata": {},
   "outputs": [],
   "source": [
    "# Criando uma classe \n",
    "class NomeDeUmaClasseExemplo1():\n",
    "    \n",
    "    # Este método vai inicializar cada objeto criado a partir desta classe\n",
    "    # O nome deste método é __init__\n",
    "    # (self) é uma referência a cada atributo de um objeto criado a partir desta classe\n",
    "    def __init__(self):\n",
    "        \n",
    "        # Atributos de cada objeto criado a partir desta classe. \n",
    "        # O self indica que estes são atributonms dos objetos\n",
    "        self.nm_variavel = 'Nome de uma variavel'\n",
    "        self.nr_variavel = 999999\n",
    "        print(\"Construtor chamado para criar um objeto desta classe. '%s' >> %d \"  %(self.nm_variavel, self.nr_variavel))\n",
    "        \n",
    "    # Métodos são funções, que recebem como parâmetro atributos do objeto criado    \n",
    "    def nome_de_uma_funcao(self):\n",
    "        print(\"Foi criado a variavel '%s' e o codigo %d\" %(self.nm_variavel, self.nr_variavel))"
   ]
  },
  {
   "cell_type": "code",
   "execution_count": 2,
   "metadata": {},
   "outputs": [],
   "source": [
    "# Criando uma classe \n",
    "class NomeDeUmaClasseExemplo2():\n",
    "    \n",
    "    # Este método vai inicializar cada objeto criado a partir desta classe\n",
    "    # O nome deste método é __init__\n",
    "    # (self) é uma referência a cada atributo de um objeto criado a partir desta classe\n",
    "    def __init__(self,p_nm_variavel,p_nr_variavel):\n",
    "        \n",
    "        # Atributos de cada objeto criado a partir desta classe. \n",
    "        # O self indica que estes são atributonms dos objetos\n",
    "        self.nm_variavel = p_nm_variavel\n",
    "        self.nr_variavel = p_nr_variavel\n",
    "        print(\"Construtor chamado para criar um objeto desta classe. '%s' >> %d \"  %(self.nm_variavel, self.nr_variavel))\n",
    "        \n",
    "    # Métodos são funções, que recebem como parâmetro atributos do objeto criado    \n",
    "    def nome_de_uma_funcao(self):\n",
    "        print(\"Foi criado a variavel '%s' e o codigo %d\" %(self.nm_variavel, self.nr_variavel))"
   ]
  },
  {
   "cell_type": "code",
   "execution_count": 13,
   "metadata": {},
   "outputs": [],
   "source": [
    "# Criando uma classe \n",
    "class NomeDeUmaClasseExemplo3():\n",
    "\n",
    "        # Métodos são funções, que recebem como parâmetro atributos do objeto criado    \n",
    "    def nome_de_uma_funcao_contrutor():\n",
    "        print(\"Construtor\")\n",
    "        print(\"Construtor\")\n",
    "        \n",
    "    def __init__(self,*p_var_tupla_variavel):   \n",
    "        if (p_var_tupla_variavel is None \n",
    "        or len(p_var_tupla_variavel) == 0):\n",
    "            self.nome_de_uma_funcao_contrutor()\n",
    "        elif len(p_var_tupla_variavel) == 1:\n",
    "            self.ds_variavel_1 =  p_var_tupla_variavel[0]\n",
    "        elif len(p_var_tupla_variavel) >= 2:\n",
    "            self.ds_variavel_1 =  p_var_tupla_variavel[0]\n",
    "            self.ds_variavel_2 =  p_var_tupla_variavel[1]\n",
    "            \n",
    "        print(p_var_tupla_variavel)\n",
    "        \n",
    "\n",
    "                "
   ]
  },
  {
   "cell_type": "code",
   "execution_count": 14,
   "metadata": {},
   "outputs": [
    {
     "name": "stdout",
     "output_type": "stream",
     "text": [
      "Construtor chamado para criar um objeto desta classe. 'Nome de uma variavel' >> 999999 \n"
     ]
    }
   ],
   "source": [
    "obj_classe_ex1 = NomeDeUmaClasseExemplo1()"
   ]
  },
  {
   "cell_type": "code",
   "execution_count": 15,
   "metadata": {},
   "outputs": [
    {
     "name": "stdout",
     "output_type": "stream",
     "text": [
      "Construtor chamado para criar um objeto desta classe. 'NomeVariavel' >> 99 \n"
     ]
    }
   ],
   "source": [
    "obj_classe_ex2 = NomeDeUmaClasseExemplo2(p_nm_variavel = \"NomeVariavel\",p_nr_variavel=99)"
   ]
  },
  {
   "cell_type": "code",
   "execution_count": 16,
   "metadata": {},
   "outputs": [
    {
     "data": {
      "text/plain": [
       "'Nome de uma variavel'"
      ]
     },
     "execution_count": 16,
     "metadata": {},
     "output_type": "execute_result"
    }
   ],
   "source": [
    "obj_classe_ex1.nm_variavel"
   ]
  },
  {
   "cell_type": "code",
   "execution_count": 17,
   "metadata": {},
   "outputs": [
    {
     "data": {
      "text/plain": [
       "__main__.NomeDeUmaClasseExemplo1"
      ]
     },
     "execution_count": 17,
     "metadata": {},
     "output_type": "execute_result"
    }
   ],
   "source": [
    "# Tipo do Objeto Livro1\n",
    "type(obj_classe_ex1)"
   ]
  },
  {
   "cell_type": "code",
   "execution_count": 18,
   "metadata": {},
   "outputs": [
    {
     "name": "stdout",
     "output_type": "stream",
     "text": [
      "Foi criado a variavel 'Nome de uma variavel' e o codigo 999999\n"
     ]
    }
   ],
   "source": [
    "obj_classe_ex1.nome_de_uma_funcao()"
   ]
  },
  {
   "cell_type": "code",
   "execution_count": 19,
   "metadata": {},
   "outputs": [
    {
     "name": "stdout",
     "output_type": "stream",
     "text": [
      "Foi criado a variavel 'NomeVariavel' e o codigo 99\n"
     ]
    }
   ],
   "source": [
    "obj_classe_ex2.nome_de_uma_funcao()"
   ]
  },
  {
   "cell_type": "code",
   "execution_count": 20,
   "metadata": {},
   "outputs": [
    {
     "name": "stdout",
     "output_type": "stream",
     "text": [
      "(1, 2, 3)\n"
     ]
    }
   ],
   "source": [
    "obj_classe_ex3 = NomeDeUmaClasseExemplo3(1,2,3)"
   ]
  },
  {
   "cell_type": "code",
   "execution_count": 21,
   "metadata": {},
   "outputs": [
    {
     "data": {
      "text/plain": [
       "1"
      ]
     },
     "execution_count": 21,
     "metadata": {},
     "output_type": "execute_result"
    }
   ],
   "source": [
    "obj_classe_ex3.ds_variavel_1"
   ]
  },
  {
   "cell_type": "code",
   "execution_count": null,
   "metadata": {},
   "outputs": [],
   "source": []
  }
 ],
 "metadata": {
  "kernelspec": {
   "display_name": "Python 3",
   "language": "python",
   "name": "python3"
  },
  "language_info": {
   "codemirror_mode": {
    "name": "ipython",
    "version": 3
   },
   "file_extension": ".py",
   "mimetype": "text/x-python",
   "name": "python",
   "nbconvert_exporter": "python",
   "pygments_lexer": "ipython3",
   "version": "3.8.5"
  }
 },
 "nbformat": 4,
 "nbformat_minor": 4
}
