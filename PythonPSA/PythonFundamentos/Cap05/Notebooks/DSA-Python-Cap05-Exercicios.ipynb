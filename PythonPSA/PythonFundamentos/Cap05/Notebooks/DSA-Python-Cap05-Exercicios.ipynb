{
 "cells": [
  {
   "cell_type": "markdown",
   "metadata": {},
   "source": [
    "# <font color='blue'>Data Science Academy - Python Fundamentos - Capítulo 5</font>\n",
    "\n",
    "## Download: http://github.com/dsacademybr"
   ]
  },
  {
   "cell_type": "code",
   "execution_count": null,
   "metadata": {},
   "outputs": [],
   "source": [
    "# Versão da Linguagem Python\n",
    "from platform import python_version\n",
    "print('Versão da Linguagem Python Usada Neste Jupyter Notebook:', python_version())"
   ]
  },
  {
   "cell_type": "markdown",
   "metadata": {},
   "source": [
    "## Exercícios"
   ]
  },
  {
   "cell_type": "code",
   "execution_count": 1,
   "metadata": {},
   "outputs": [],
   "source": [
    "# Exercício 1 - Crie um objeto a partir da classe abaixo, chamado roc1, passando 2 parâmetros e depois faça uma chamada\n",
    "# aos atributos e métodos\n",
    "from math import sqrt\n",
    "\n",
    "class Rocket():\n",
    "     \n",
    "    def __init__(self, x=0, y=0):\n",
    "        self.x = x\n",
    "        self.y = y\n",
    "        \n",
    "    def move_rocket(self, x_increment=0, y_increment=1):\n",
    "        self.x += x_increment\n",
    "        self.y += y_increment\n",
    "        \n",
    "    def print_rocket(self):\n",
    "        print(self.x, self.y)\n",
    "        "
   ]
  },
  {
   "cell_type": "code",
   "execution_count": 12,
   "metadata": {},
   "outputs": [
    {
     "name": "stdout",
     "output_type": "stream",
     "text": [
      "10 25\n",
      "21\n",
      "46\n"
     ]
    }
   ],
   "source": [
    "objeto_rocket = Rocket(10,25)\n",
    "objeto_rocket.print_rocket()\n",
    "objeto_rocket.move_rocket(11,21)\n",
    "print(objeto_rocket.x)\n",
    "print(objeto_rocket.y)\n"
   ]
  },
  {
   "cell_type": "code",
   "execution_count": 18,
   "metadata": {},
   "outputs": [
    {
     "name": "stdout",
     "output_type": "stream",
     "text": [
      "codigo: 6\tnome: Eduardo\n"
     ]
    }
   ],
   "source": [
    "# Exercício 2 - Crie uma classe chamada Pessoa() com os atributos: nome, cidade, telefone e e-mail. Use pelo menos 2\n",
    "# métodos especiais na sua classe. Crie um objeto da sua classe e faça uma chamada a pelo menos um dos seus métodos\n",
    "# especiais.\n",
    "from functools import reduce\n",
    "class Pessoa():   \n",
    "        \n",
    "    def __init__(self, p_str_nome, p_str_cidade=None, p_str_telefone=None, p_str_email=None,p_int_codigo=0):\n",
    "        self.int_codigo = p_int_codigo\n",
    "        self.str_nome = p_str_nome\n",
    "        self.str_cidade = p_str_cidade\n",
    "        self.str_telefone = p_str_telefone\n",
    "        self.str_email = p_str_email\n",
    "        \n",
    "    def increment_codigo_pesoa(self, *p_lst_int_codigo):\n",
    "        self.int_codigo += reduce(lambda x,y: x+y, p_lst_int_codigo)\n",
    "        \n",
    "    def print_pessoa(self):\n",
    "        print(\"codigo: \" + str(self.int_codigo), end= '\\t')\n",
    "        print(\"nome: \" + str(self.str_nome), end= '\\n')\n",
    "        \n",
    "objeto_pessoa = Pessoa(p_str_nome=\"Eduardo\")\n",
    "objeto_pessoa.increment_codigo_pesoa(1,2,3)\n",
    "\n",
    "objeto_pessoa.print_pessoa()"
   ]
  },
  {
   "cell_type": "code",
   "execution_count": 5,
   "metadata": {},
   "outputs": [
    {
     "name": "stdout",
     "output_type": "stream",
     "text": [
      "interface: Android\ttamanho: 1\tcapacidade: 2\n",
      "interface: Android\ttamanho: 1\n"
     ]
    }
   ],
   "source": [
    "# Exercício 3 - Crie a classe Smartphone com 2 atributos, tamanho e interface e crie a classe MP3Player com os \n",
    "# atributos capacidade. A classe MP3player deve herdar os atributos da classe Smartphone.\n",
    "class Smartphone():   \n",
    "        \n",
    "    def print_smartphone(self):\n",
    "        print(\"interface: \" + str(self.str_interface), end= '\\t')\n",
    "        print(\"tamanho: \" + str(self.int_tamanho), end= '\\n')\n",
    "        \n",
    "    def __init__(self, p_int_tamanho, p_str_interface):\n",
    "        self.int_tamanho = p_int_tamanho\n",
    "        self.str_interface = p_str_interface\n",
    "        \n",
    "class MP3Player(Smartphone): \n",
    "    def __init__(self,p_int_capacidade,p_int_tam=1, p_str_face=\"Android\"):\n",
    "        self.int_capacidade=p_int_capacidade\n",
    "        Smartphone.__init__(self=self,p_int_tamanho=p_int_tam, p_str_interface=p_str_face)\n",
    "        \n",
    "    def print_MP3Player(self):\n",
    "        print(\"interface: \" + str(self.str_interface), end= '\\t')\n",
    "        print(\"tamanho: \" + str(self.int_tamanho), end= '\\t')\n",
    "        print(\"capacidade: \" + str(self.int_capacidade), end= '\\n')\n",
    "\n",
    "objeto_MP3Player = MP3Player(2)        \n",
    "objeto_MP3Player.print_MP3Player()      \n",
    "objeto_MP3Player.print_smartphone() "
   ]
  },
  {
   "cell_type": "markdown",
   "metadata": {},
   "source": [
    "### FIM"
   ]
  },
  {
   "cell_type": "markdown",
   "metadata": {},
   "source": [
    "### Obrigado - Data Science Academy - <a href=\"http://facebook.com/dsacademybr\">facebook.com/dsacademybr</a>"
   ]
  }
 ],
 "metadata": {
  "kernelspec": {
   "display_name": "Python 3",
   "language": "python",
   "name": "python3"
  },
  "language_info": {
   "codemirror_mode": {
    "name": "ipython",
    "version": 3
   },
   "file_extension": ".py",
   "mimetype": "text/x-python",
   "name": "python",
   "nbconvert_exporter": "python",
   "pygments_lexer": "ipython3",
   "version": "3.8.5"
  }
 },
 "nbformat": 4,
 "nbformat_minor": 1
}
