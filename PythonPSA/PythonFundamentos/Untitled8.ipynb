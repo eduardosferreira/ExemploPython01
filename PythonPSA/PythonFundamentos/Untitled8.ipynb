{
 "cells": [
  {
   "cell_type": "code",
   "execution_count": 1,
   "metadata": {},
   "outputs": [],
   "source": [
    "def cria_matriz(tot_lin, tot_col, valor):\n",
    "    matriz = []  #lista vazia\n",
    "    for i in range(tot_lin):\n",
    "        linha = []\n",
    "        for j in range(tot_col):\n",
    "            linha.append(valor)\n",
    "        matriz.append(linha)\n",
    "        return matriz"
   ]
  },
  {
   "cell_type": "code",
   "execution_count": 2,
   "metadata": {},
   "outputs": [],
   "source": [
    "x = cria_matriz(1, 3, 99)"
   ]
  },
  {
   "cell_type": "code",
   "execution_count": 3,
   "metadata": {},
   "outputs": [
    {
     "data": {
      "text/plain": [
       "[[99, 99, 99]]"
      ]
     },
     "execution_count": 3,
     "metadata": {},
     "output_type": "execute_result"
    }
   ],
   "source": [
    "x"
   ]
  },
  {
   "cell_type": "code",
   "execution_count": 4,
   "metadata": {},
   "outputs": [],
   "source": [
    "def cria_matriz(tot_lin, tot_col, valor):\n",
    "    matriz = []  #lista vazia\n",
    "    for i in range(tot_lin):\n",
    "        linha = []\n",
    "        for j in range(tot_col):\n",
    "            linha.append(valor)\n",
    "        matriz.append(linha)\n",
    "    return matriz"
   ]
  },
  {
   "cell_type": "code",
   "execution_count": 5,
   "metadata": {},
   "outputs": [],
   "source": [
    "x = cria_matriz(2,3,99)"
   ]
  },
  {
   "cell_type": "code",
   "execution_count": 6,
   "metadata": {},
   "outputs": [
    {
     "data": {
      "text/plain": [
       "[[99, 99, 99], [99, 99, 99]]"
      ]
     },
     "execution_count": 6,
     "metadata": {},
     "output_type": "execute_result"
    }
   ],
   "source": [
    "x"
   ]
  },
  {
   "cell_type": "code",
   "execution_count": 7,
   "metadata": {},
   "outputs": [],
   "source": [
    "def cria_matriz(num_linhas, num_colunas):\n",
    "    matriz = []  #lista vazia\n",
    "    for i in range(num_linhas):\n",
    "        linha = []\n",
    "        for j in range(num_colunas):\n",
    "            valor = int(input(\"Digite o elemento [\" + str(i) + \"][\" + str(j) + \"]: \"))\n",
    "            linha.append(valor)\n",
    "        matriz.append(linha)\n",
    "    return matriz"
   ]
  },
  {
   "cell_type": "code",
   "execution_count": 8,
   "metadata": {},
   "outputs": [
    {
     "name": "stdout",
     "output_type": "stream",
     "text": [
      "3  5  7  "
     ]
    }
   ],
   "source": [
    "def tarefa(mat):\n",
    "    dim = len(mat)\n",
    "    for i in range(dim):\n",
    "        print(mat[i][dim-1-i], end=\"  \")\n",
    "\n",
    "mat = [[1,2,3],[4,5,6],[7,8,9]]\n",
    "tarefa(mat)"
   ]
  },
  {
   "cell_type": "code",
   "execution_count": null,
   "metadata": {},
   "outputs": [],
   "source": []
  }
 ],
 "metadata": {
  "kernelspec": {
   "display_name": "Python 3",
   "language": "python",
   "name": "python3"
  },
  "language_info": {
   "codemirror_mode": {
    "name": "ipython",
    "version": 3
   },
   "file_extension": ".py",
   "mimetype": "text/x-python",
   "name": "python",
   "nbconvert_exporter": "python",
   "pygments_lexer": "ipython3",
   "version": "3.8.5"
  }
 },
 "nbformat": 4,
 "nbformat_minor": 4
}
