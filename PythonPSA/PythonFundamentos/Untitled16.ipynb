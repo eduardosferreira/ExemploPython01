{
 "cells": [
  {
   "cell_type": "code",
   "execution_count": 6,
   "metadata": {},
   "outputs": [
    {
     "ename": "SyntaxError",
     "evalue": "invalid syntax (<ipython-input-6-8d98c9ddb337>, line 5)",
     "output_type": "error",
     "traceback": [
      "\u001b[1;36m  File \u001b[1;32m\"<ipython-input-6-8d98c9ddb337>\"\u001b[1;36m, line \u001b[1;32m5\u001b[0m\n\u001b[1;33m    print'<espaço B>')\u001b[0m\n\u001b[1;37m         ^\u001b[0m\n\u001b[1;31mSyntaxError\u001b[0m\u001b[1;31m:\u001b[0m invalid syntax\n"
     ]
    }
   ],
   "source": [
    "def x(n):\n",
    "    if n == 0:\n",
    "        print('<espaço A>')\n",
    "    else:\n",
    "        print'<espaço B>')\n",
    "        x(n-1)\n",
    "        print('<espaço C>')\n",
    "    print(n, '<espaço D>')\n"
   ]
  },
  {
   "cell_type": "code",
   "execution_count": 7,
   "metadata": {},
   "outputs": [
    {
     "name": "stdout",
     "output_type": "stream",
     "text": [
      "10 <espaço B>\n",
      "9 <espaço B>\n",
      "8 <espaço B>\n",
      "7 <espaço B>\n",
      "6 <espaço B>\n",
      "5 <espaço B>\n",
      "4 <espaço B>\n",
      "3 <espaço B>\n",
      "2 <espaço B>\n",
      "1 <espaço B>\n",
      "0 <espaço A>\n",
      "0 <espaço D>\n",
      "1 <espaço C>\n",
      "1 <espaço D>\n",
      "2 <espaço C>\n",
      "2 <espaço D>\n",
      "3 <espaço C>\n",
      "3 <espaço D>\n",
      "4 <espaço C>\n",
      "4 <espaço D>\n",
      "5 <espaço C>\n",
      "5 <espaço D>\n",
      "6 <espaço C>\n",
      "6 <espaço D>\n",
      "7 <espaço C>\n",
      "7 <espaço D>\n",
      "8 <espaço C>\n",
      "8 <espaço D>\n",
      "9 <espaço C>\n",
      "9 <espaço D>\n",
      "10 <espaço C>\n",
      "10 <espaço D>\n"
     ]
    }
   ],
   "source": [
    "x(10)"
   ]
  },
  {
   "cell_type": "code",
   "execution_count": null,
   "metadata": {},
   "outputs": [],
   "source": []
  }
 ],
 "metadata": {
  "kernelspec": {
   "display_name": "Python 3",
   "language": "python",
   "name": "python3"
  },
  "language_info": {
   "codemirror_mode": {
    "name": "ipython",
    "version": 3
   },
   "file_extension": ".py",
   "mimetype": "text/x-python",
   "name": "python",
   "nbconvert_exporter": "python",
   "pygments_lexer": "ipython3",
   "version": "3.8.5"
  }
 },
 "nbformat": 4,
 "nbformat_minor": 4
}
