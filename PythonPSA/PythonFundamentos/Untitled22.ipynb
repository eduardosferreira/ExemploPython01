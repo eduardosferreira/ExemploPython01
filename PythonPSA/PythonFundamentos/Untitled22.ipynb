{
 "cells": [
  {
   "cell_type": "code",
   "execution_count": 6,
   "metadata": {},
   "outputs": [
    {
     "name": "stdout",
     "output_type": "stream",
     "text": [
      "{1, '2', 'T', 's', 't', 'e'}  - > {1}\n"
     ]
    }
   ],
   "source": [
    "s= set()\n",
    "s.add(1)\n",
    "t = s.copy()\n",
    "s.update('2')\n",
    "s.update('Teste')\n",
    "print(s,' - >',t)"
   ]
  },
  {
   "cell_type": "code",
   "execution_count": 14,
   "metadata": {},
   "outputs": [
    {
     "name": "stdout",
     "output_type": "stream",
     "text": [
      "{0, 1, 2, 3, 4, 5, 6, 7, 8, 9, 10, 11, 12, 14}  - > {1, 2, 3, 4, 5, 6, 7, 8, 9}  - > {0, 1, 2, 3, 10, 11, 12, 14}\n",
      "{0, 1, 2, 3, 4, 5, 6, 7, 8, 9, 10, 11, 12, 14}  - > {1, 2, 3, 4, 5, 6, 7, 8, 9}  - > {0, 1, 2, 3, 10, 11, 12, 14}\n",
      "{1, 2, 3}  - > {1, 2, 3, 4, 5, 6, 7, 8, 9}  - > {0, 1, 2, 3, 10, 11, 12, 14}\n",
      "{1, 2, 3}  - > {1, 2, 3, 4, 5, 6, 7, 8, 9}  - > {0, 1, 2, 3, 10, 11, 12, 14}\n",
      "{4, 5, 6, 7, 8, 9}  - > {1, 2, 3, 4, 5, 6, 7, 8, 9}  - > {0, 1, 2, 3, 10, 11, 12, 14}\n",
      "{4, 5, 6, 7, 8, 9}  - > {1, 2, 3, 4, 5, 6, 7, 8, 9}  - > {0, 1, 2, 3, 10, 11, 12, 14}\n",
      "{0, 4, 5, 6, 7, 8, 9, 10, 11, 12, 14}  - > {1, 2, 3, 4, 5, 6, 7, 8, 9}  - > {0, 1, 2, 3, 10, 11, 12, 14}\n",
      "{0, 4, 5, 6, 7, 8, 9, 10, 11, 12, 14}  - > {1, 2, 3, 4, 5, 6, 7, 8, 9}  - > {0, 1, 2, 3, 10, 11, 12, 14}\n"
     ]
    }
   ],
   "source": [
    "s1 = {1,1,2,3,4,5,6,7,8,9}\n",
    "s2 = {0,1,2,3,10,11,12,14}\n",
    "s3 = s1.union(s2)\n",
    "s4 = s3.copy()\n",
    "print(s3,' - >',s1,' - >',s2)\n",
    "s3 = s1 | s2\n",
    "print(s3,' - >',s1,' - >',s2)\n",
    "s3 = s1.intersection(s2)\n",
    "print(s3,' - >',s1,' - >',s2)\n",
    "s3 = s1 & s2\n",
    "print(s3,' - >',s1,' - >',s2)\n",
    "s3 = s1.difference(s2)\n",
    "print(s3,' - >',s1,' - >',s2)\n",
    "s3 = s1 - s2\n",
    "print(s3,' - >',s1,' - >',s2)\n",
    "s3 = s1.symmetric_difference(s2)\n",
    "print(s3,' - >',s1,' - >',s2)\n",
    "s3 = s1 ^ s2\n",
    "print(s3,' - >',s1,' - >',s2)"
   ]
  },
  {
   "cell_type": "code",
   "execution_count": 48,
   "metadata": {},
   "outputs": [],
   "source": [
    "from random import randint\n",
    "lista = [[randint(0,10) if n2 > 0 else n1 for n1 in range(10)] for n2 in range(10)  ]"
   ]
  },
  {
   "cell_type": "code",
   "execution_count": 49,
   "metadata": {},
   "outputs": [
    {
     "data": {
      "text/plain": [
       "[[0, 1, 2, 3, 4, 5, 6, 7, 8, 9],\n",
       " [1, 8, 4, 3, 8, 10, 3, 10, 2, 9],\n",
       " [6, 5, 3, 7, 7, 3, 10, 1, 0, 0],\n",
       " [5, 9, 4, 5, 8, 3, 4, 3, 5, 0],\n",
       " [0, 9, 6, 10, 1, 3, 7, 2, 0, 0],\n",
       " [1, 0, 7, 9, 7, 5, 2, 2, 9, 10],\n",
       " [9, 10, 9, 4, 3, 5, 5, 8, 7, 7],\n",
       " [9, 3, 1, 1, 9, 9, 1, 5, 2, 6],\n",
       " [7, 7, 1, 4, 7, 2, 2, 6, 5, 10],\n",
       " [9, 2, 0, 2, 0, 8, 9, 2, 5, 7]]"
      ]
     },
     "execution_count": 49,
     "metadata": {},
     "output_type": "execute_result"
    }
   ],
   "source": [
    "lista "
   ]
  },
  {
   "cell_type": "code",
   "execution_count": 52,
   "metadata": {},
   "outputs": [
    {
     "name": "stdout",
     "output_type": "stream",
     "text": [
      "-1 -> não encontrado duplicado: [0, 1, 2, 3, 4, 5, 6, 7, 8, 9]\n",
      "3 -> qtde:  2 -> nr.ele.rept:  2 -> posição:  3 | \n",
      "7 -> qtde:  2 -> nr.ele.rept:  2 -> posição:  3 | \n",
      "4 -> qtde:  2 -> nr.ele.rept:  2 -> posição:  2 | \n",
      "0 -> qtde:  3 -> nr.ele.rept:  2 -> posição:  8 | \n",
      "9 -> qtde:  2 -> nr.ele.rept:  2 -> posição:  3 | \n",
      "9 -> qtde:  2 -> nr.ele.rept:  2 -> posição:  2 | \n",
      "1 -> qtde:  3 -> nr.ele.rept:  2 -> posição:  2 | \n",
      "7 -> qtde:  3 -> nr.ele.rept:  2 -> posição:  1 | \n",
      "2 -> qtde:  3 -> nr.ele.rept:  2 -> posição:  1 | \n"
     ]
    }
   ],
   "source": [
    "def fnc_lista(p_lista):    \n",
    "    for item in p_lista:\n",
    "        nr_aux = 0\n",
    "        for p,i in enumerate(item):\n",
    "            if item.count(i) > 1:\n",
    "                nr_aux+=1\n",
    "                if nr_aux > 1:\n",
    "                    print(i,'-> qtde: ',item.count(i),'-> nr.ele.rept: ',nr_aux,'-> posição: ',p,end=' | ')            \n",
    "                    break\n",
    "        else:\n",
    "            if nr_aux <= 1:\n",
    "                print(-1,'->','não encontrado duplicado:',item,end='')\n",
    "        print()    \n",
    "\n",
    "fnc_lista(lista)        "
   ]
  },
  {
   "cell_type": "code",
   "execution_count": 76,
   "metadata": {},
   "outputs": [],
   "source": [
    "from random import randint\n",
    "lista = [str(n1) for n1 in range(10)]"
   ]
  },
  {
   "cell_type": "code",
   "execution_count": 103,
   "metadata": {},
   "outputs": [],
   "source": [
    "string = ''.join([str(n1) for n1 in range(10)]) * 10"
   ]
  },
  {
   "cell_type": "code",
   "execution_count": 104,
   "metadata": {},
   "outputs": [
    {
     "data": {
      "text/plain": [
       "'0123456789012345678901234567890123456789012345678901234567890123456789012345678901234567890123456789'"
      ]
     },
     "execution_count": 104,
     "metadata": {},
     "output_type": "execute_result"
    }
   ],
   "source": [
    "string[0:100000000]"
   ]
  },
  {
   "cell_type": "code",
   "execution_count": 105,
   "metadata": {},
   "outputs": [],
   "source": [
    "l1 = '.'.join([string[i:(i+10)] for i in range(0,len(string),10)])"
   ]
  },
  {
   "cell_type": "code",
   "execution_count": 106,
   "metadata": {},
   "outputs": [
    {
     "data": {
      "text/plain": [
       "'0123456789.0123456789.0123456789.0123456789.0123456789.0123456789.0123456789.0123456789.0123456789.0123456789'"
      ]
     },
     "execution_count": 106,
     "metadata": {},
     "output_type": "execute_result"
    }
   ],
   "source": [
    "l1"
   ]
  },
  {
   "cell_type": "code",
   "execution_count": 112,
   "metadata": {},
   "outputs": [
    {
     "name": "stdout",
     "output_type": "stream",
     "text": [
      "[('k1.0', 1), ('k2.0', 2), ('k3.0', 3)] {'k1.0': 1, 'k2.0': 2, 'k3.0': 3} {'K1.0': 10, 'K2.0': 20, 'K3.0': 30}\n"
     ]
    }
   ],
   "source": [
    "l1 = [\n",
    "    ('k1.0',1)\n",
    "    ,('k2.0',2)\n",
    "    ,('k3.0',3)    \n",
    "]\n",
    "\n",
    "d1 = dict(l1)\n",
    "d2 = {x.upper():y*10 for x,y in l1}\n",
    "print(l1,d1,d2)"
   ]
  },
  {
   "cell_type": "code",
   "execution_count": 119,
   "metadata": {},
   "outputs": [
    {
     "name": "stdout",
     "output_type": "stream",
     "text": [
      "False True\n"
     ]
    }
   ],
   "source": [
    "l1 = [0,1]\n",
    "l2 = l1.copy()\n",
    "l2 = iter(l2) \n",
    "print(hasattr(l1,'__next__'),hasattr(l2,'__next__'))\n"
   ]
  },
  {
   "cell_type": "code",
   "execution_count": 136,
   "metadata": {},
   "outputs": [
    {
     "data": {
      "text/plain": [
       "60"
      ]
     },
     "execution_count": 136,
     "metadata": {},
     "output_type": "execute_result"
    }
   ],
   "source": [
    "l1 = [('p1',10)\n",
    "     ,('p2',20)\n",
    "     ,('p3',30) \n",
    "     ]\n",
    "t1 = sum([x[1] for x in l1])\n",
    "t1"
   ]
  },
  {
   "cell_type": "code",
   "execution_count": 133,
   "metadata": {},
   "outputs": [
    {
     "data": {
      "text/plain": [
       "0"
      ]
     },
     "execution_count": 133,
     "metadata": {},
     "output_type": "execute_result"
    }
   ],
   "source": [
    "l1.index('1')"
   ]
  },
  {
   "cell_type": "code",
   "execution_count": 159,
   "metadata": {},
   "outputs": [
    {
     "name": "stdout",
     "output_type": "stream",
     "text": [
      "[('MG', 'Uberlandia'), ('SP', 'Araraquara'), ('AM', 'Manaus')] -> <zip object at 0x0000019809DAD2C0>\n",
      "[(0, 'MG', 'Uberlandia'), (1, 'SP', 'Araraquara'), (2, 'AM', 'Manaus')] -> <zip object at 0x0000019809D9FA00>\n",
      "[('MG', 'Uberlandia'), ('SP', 'Araraquara'), ('AM', 'Manaus'), ('Estado', 'Rio Verde')] -> <itertools.zip_longest object at 0x0000019809DB9F40>\n",
      "[('MG', 'Uberlandia'), ('SP', 'Araraquara'), ('AM', 'Manaus'), (None, 'Rio Verde')] -> <itertools.zip_longest object at 0x0000019809DB30E0>\n",
      "[]\n"
     ]
    }
   ],
   "source": [
    "from itertools import zip_longest,count\n",
    "indice = count()\n",
    "cidades = ['Uberlandia','Araraquara','Manaus','Rio Verde']\n",
    "estados = ['MG','SP','AM']\n",
    "cidades_estados_zip = zip(estados,cidades)\n",
    "cidades_estados_zip_indice = zip(indice,estados,cidades)\n",
    "print(list(cidades_estados_zip),'->',cidades_estados_zip)\n",
    "print(list(cidades_estados_zip_indice),'->',cidades_estados_zip_indice)\n",
    "cidades_estados_zip_longest_1 = zip_longest(estados,cidades,fillvalue='Estado')\n",
    "cidades_estados_zip_longest_2 = zip_longest(estados,cidades)\n",
    "print(list(cidades_estados_zip_longest_1),'->',cidades_estados_zip_longest_1)\n",
    "print(list(cidades_estados_zip_longest_2),'->',cidades_estados_zip_longest_2)\n",
    "\n",
    "print(list(cidades_estados_zip))"
   ]
  },
  {
   "cell_type": "code",
   "execution_count": 158,
   "metadata": {},
   "outputs": [
    {
     "name": "stdout",
     "output_type": "stream",
     "text": [
      "[]\n"
     ]
    }
   ],
   "source": []
  },
  {
   "cell_type": "code",
   "execution_count": null,
   "metadata": {},
   "outputs": [],
   "source": []
  }
 ],
 "metadata": {
  "kernelspec": {
   "display_name": "Python 3",
   "language": "python",
   "name": "python3"
  },
  "language_info": {
   "codemirror_mode": {
    "name": "ipython",
    "version": 3
   },
   "file_extension": ".py",
   "mimetype": "text/x-python",
   "name": "python",
   "nbconvert_exporter": "python",
   "pygments_lexer": "ipython3",
   "version": "3.8.5"
  }
 },
 "nbformat": 4,
 "nbformat_minor": 4
}
