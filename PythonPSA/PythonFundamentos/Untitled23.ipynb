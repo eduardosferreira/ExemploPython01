{
 "cells": [
  {
   "cell_type": "code",
   "execution_count": 13,
   "metadata": {},
   "outputs": [
    {
     "name": "stdout",
     "output_type": "stream",
     "text": [
      "1-29,2-30,4-32,5-33,7-35,8-36,10-38,11-39,13-41,14-42,16-44,17-45,19-47,20-48,"
     ]
    }
   ],
   "source": [
    "for idx,nr_col in enumerate(range(29,50)):\n",
    "    if ((idx+1) % 3) != 0:\n",
    "        print(idx+1,nr_col,sep='-',end=',')"
   ]
  },
  {
   "cell_type": "code",
   "execution_count": null,
   "metadata": {},
   "outputs": [],
   "source": []
  }
 ],
 "metadata": {
  "kernelspec": {
   "display_name": "Python 3",
   "language": "python",
   "name": "python3"
  },
  "language_info": {
   "codemirror_mode": {
    "name": "ipython",
    "version": 3
   },
   "file_extension": ".py",
   "mimetype": "text/x-python",
   "name": "python",
   "nbconvert_exporter": "python",
   "pygments_lexer": "ipython3",
   "version": "3.8.5"
  }
 },
 "nbformat": 4,
 "nbformat_minor": 4
}
