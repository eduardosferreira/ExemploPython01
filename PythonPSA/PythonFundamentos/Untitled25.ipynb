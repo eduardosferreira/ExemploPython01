{
 "cells": [
  {
   "cell_type": "code",
   "execution_count": 41,
   "metadata": {},
   "outputs": [
    {
     "name": "stdout",
     "output_type": "stream",
     "text": [
      "('cfop1', 'cst01') ('cfop1', 'cst012')\n",
      "{('cfop1', 'cst01'): [1, 2, 3, 4, ('cfop1', 'cst01')], ('cfop1', 'cst012'): [11, 12, 13, 14, ('cfop1', 'cst012')]} {}\n"
     ]
    }
   ],
   "source": [
    "x = 'cfop1'\n",
    "y = 'cst01'\n",
    "t1 = x,y,\n",
    "t2 = x,y+'2',\n",
    "d1 = {}\n",
    "d2 = {}\n",
    "print(t1,t2)\n",
    "d1[t1]= [1,2,3,4,t1]\n",
    "d1[t2]= [11,12,13,14,t2]\n",
    "\n",
    "print(d1,d2)\n"
   ]
  },
  {
   "cell_type": "code",
   "execution_count": 42,
   "metadata": {},
   "outputs": [
    {
     "data": {
      "text/plain": [
       "('cfop1', 'cst01')"
      ]
     },
     "execution_count": 42,
     "metadata": {},
     "output_type": "execute_result"
    }
   ],
   "source": [
    "tupla = (x,y)\n",
    "tupla"
   ]
  },
  {
   "cell_type": "code",
   "execution_count": 43,
   "metadata": {},
   "outputs": [
    {
     "name": "stdout",
     "output_type": "stream",
     "text": [
      "cfop1->[1, 2, 3, 4, ('cfop1', 'cst01')]\n",
      "cfop1->[11, 12, 13, 14, ('cfop1', 'cst012')]\n"
     ]
    }
   ],
   "source": [
    "for k,v in d1.items():\n",
    "    print(k[0],v,sep='->')"
   ]
  },
  {
   "cell_type": "code",
   "execution_count": 44,
   "metadata": {},
   "outputs": [],
   "source": [
    "lista = [v for k,v in d1.items() if str(k[0]).strip().upper() == 'CFOP1']"
   ]
  },
  {
   "cell_type": "code",
   "execution_count": 55,
   "metadata": {},
   "outputs": [
    {
     "name": "stdout",
     "output_type": "stream",
     "text": [
      "cst01\n",
      "cst012\n"
     ]
    }
   ],
   "source": [
    "for x in lista:\n",
    "    y = x[-1][1]\n",
    "    print(y)"
   ]
  },
  {
   "cell_type": "code",
   "execution_count": 19,
   "metadata": {},
   "outputs": [],
   "source": [
    "from collections import namedtuple"
   ]
  },
  {
   "cell_type": "code",
   "execution_count": 20,
   "metadata": {},
   "outputs": [],
   "source": [
    "Fruit = namedtuple(\"Fruit\", [\"name\", \"color\"])"
   ]
  },
  {
   "cell_type": "code",
   "execution_count": 21,
   "metadata": {},
   "outputs": [],
   "source": [
    "f = Fruit(name=\"banana\", color=\"red\")"
   ]
  },
  {
   "cell_type": "code",
   "execution_count": 22,
   "metadata": {},
   "outputs": [
    {
     "name": "stdout",
     "output_type": "stream",
     "text": [
      "Fruit(name='banana', color='red') banana red\n"
     ]
    }
   ],
   "source": [
    "print(f,f.name,f.color)"
   ]
  },
  {
   "cell_type": "code",
   "execution_count": 24,
   "metadata": {},
   "outputs": [
    {
     "data": {
      "text/plain": [
       "{Fruit(name='banana', color='red'): 5, Fruit(name='banana', color='blu'): 51}"
      ]
     },
     "execution_count": 24,
     "metadata": {},
     "output_type": "execute_result"
    }
   ],
   "source": [
    "fruitcount= {}\n",
    "fruitcount[Fruit(\"banana\", \"red\")] = 5\n",
    "fruitcount[Fruit(\"banana\", \"blu\")] = 51\n",
    "fruitcount"
   ]
  },
  {
   "cell_type": "code",
   "execution_count": 26,
   "metadata": {},
   "outputs": [
    {
     "data": {
      "text/plain": [
       "dict_keys([Fruit(name='banana', color='red'), Fruit(name='banana', color='blu')])"
      ]
     },
     "execution_count": 26,
     "metadata": {},
     "output_type": "execute_result"
    }
   ],
   "source": [
    "fruits = fruitcount.keys()\n",
    "fruits"
   ]
  },
  {
   "cell_type": "code",
   "execution_count": 57,
   "metadata": {},
   "outputs": [],
   "source": [
    "tt = \" 1 \"\n",
    "if not tt.strip():\n",
    "    print(\"falso\")"
   ]
  },
  {
   "cell_type": "code",
   "execution_count": null,
   "metadata": {},
   "outputs": [],
   "source": []
  }
 ],
 "metadata": {
  "kernelspec": {
   "display_name": "Python 3",
   "language": "python",
   "name": "python3"
  },
  "language_info": {
   "codemirror_mode": {
    "name": "ipython",
    "version": 3
   },
   "file_extension": ".py",
   "mimetype": "text/x-python",
   "name": "python",
   "nbconvert_exporter": "python",
   "pygments_lexer": "ipython3",
   "version": "3.8.5"
  }
 },
 "nbformat": 4,
 "nbformat_minor": 4
}
